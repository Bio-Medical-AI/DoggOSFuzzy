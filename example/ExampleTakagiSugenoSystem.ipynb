{
 "cells": [
  {
   "cell_type": "markdown",
   "id": "90169821",
   "metadata": {},
   "source": [
    "# Import necessary modules"
   ]
  },
  {
   "cell_type": "code",
   "execution_count": 1,
   "id": "e9d0c246",
   "metadata": {},
   "outputs": [],
   "source": [
    "import numpy as np\n",
    "import pandas as pd\n",
    "import matplotlib.pyplot as plt"
   ]
  },
  {
   "cell_type": "markdown",
   "id": "c4ee0e57",
   "metadata": {},
   "source": [
    "# Read dataset"
   ]
  },
  {
   "cell_type": "code",
   "execution_count": 2,
   "id": "dece441b",
   "metadata": {},
   "outputs": [],
   "source": [
    "from sklearn.preprocessing import MinMaxScaler"
   ]
  },
  {
   "cell_type": "code",
   "execution_count": 3,
   "id": "ab79ee49",
   "metadata": {},
   "outputs": [],
   "source": [
    "species_map = {'Iris-setosa': 0, 'Iris-versicolor': 1, 'Iris-virginica': 2}"
   ]
  },
  {
   "cell_type": "code",
   "execution_count": 4,
   "id": "16fbf563",
   "metadata": {},
   "outputs": [],
   "source": [
    "df = pd.read_csv('data.csv')"
   ]
  },
  {
   "cell_type": "code",
   "execution_count": 5,
   "id": "7ff26ccc",
   "metadata": {},
   "outputs": [],
   "source": [
    "df_X = df.drop(columns='species')\n",
    "df_y = df['species'].map(species_map)"
   ]
  },
  {
   "cell_type": "code",
   "execution_count": 6,
   "id": "97e8c918",
   "metadata": {},
   "outputs": [
    {
     "data": {
      "text/html": [
       "<div>\n",
       "<style scoped>\n",
       "    .dataframe tbody tr th:only-of-type {\n",
       "        vertical-align: middle;\n",
       "    }\n",
       "\n",
       "    .dataframe tbody tr th {\n",
       "        vertical-align: top;\n",
       "    }\n",
       "\n",
       "    .dataframe thead th {\n",
       "        text-align: right;\n",
       "    }\n",
       "</style>\n",
       "<table border=\"1\" class=\"dataframe\">\n",
       "  <thead>\n",
       "    <tr style=\"text-align: right;\">\n",
       "      <th></th>\n",
       "      <th>sepal-length</th>\n",
       "      <th>sepal-width</th>\n",
       "      <th>petal-length</th>\n",
       "      <th>petal-width</th>\n",
       "    </tr>\n",
       "  </thead>\n",
       "  <tbody>\n",
       "    <tr>\n",
       "      <th>0</th>\n",
       "      <td>5.1</td>\n",
       "      <td>3.5</td>\n",
       "      <td>1.4</td>\n",
       "      <td>0.2</td>\n",
       "    </tr>\n",
       "    <tr>\n",
       "      <th>1</th>\n",
       "      <td>4.9</td>\n",
       "      <td>3.0</td>\n",
       "      <td>1.4</td>\n",
       "      <td>0.2</td>\n",
       "    </tr>\n",
       "    <tr>\n",
       "      <th>2</th>\n",
       "      <td>4.7</td>\n",
       "      <td>3.2</td>\n",
       "      <td>1.3</td>\n",
       "      <td>0.2</td>\n",
       "    </tr>\n",
       "    <tr>\n",
       "      <th>3</th>\n",
       "      <td>4.6</td>\n",
       "      <td>3.1</td>\n",
       "      <td>1.5</td>\n",
       "      <td>0.2</td>\n",
       "    </tr>\n",
       "    <tr>\n",
       "      <th>4</th>\n",
       "      <td>5.0</td>\n",
       "      <td>3.6</td>\n",
       "      <td>1.4</td>\n",
       "      <td>0.2</td>\n",
       "    </tr>\n",
       "    <tr>\n",
       "      <th>...</th>\n",
       "      <td>...</td>\n",
       "      <td>...</td>\n",
       "      <td>...</td>\n",
       "      <td>...</td>\n",
       "    </tr>\n",
       "    <tr>\n",
       "      <th>145</th>\n",
       "      <td>6.7</td>\n",
       "      <td>3.0</td>\n",
       "      <td>5.2</td>\n",
       "      <td>2.3</td>\n",
       "    </tr>\n",
       "    <tr>\n",
       "      <th>146</th>\n",
       "      <td>6.3</td>\n",
       "      <td>2.5</td>\n",
       "      <td>5.0</td>\n",
       "      <td>1.9</td>\n",
       "    </tr>\n",
       "    <tr>\n",
       "      <th>147</th>\n",
       "      <td>6.5</td>\n",
       "      <td>3.0</td>\n",
       "      <td>5.2</td>\n",
       "      <td>2.0</td>\n",
       "    </tr>\n",
       "    <tr>\n",
       "      <th>148</th>\n",
       "      <td>6.2</td>\n",
       "      <td>3.4</td>\n",
       "      <td>5.4</td>\n",
       "      <td>2.3</td>\n",
       "    </tr>\n",
       "    <tr>\n",
       "      <th>149</th>\n",
       "      <td>5.9</td>\n",
       "      <td>3.0</td>\n",
       "      <td>5.1</td>\n",
       "      <td>1.8</td>\n",
       "    </tr>\n",
       "  </tbody>\n",
       "</table>\n",
       "<p>150 rows × 4 columns</p>\n",
       "</div>"
      ],
      "text/plain": [
       "     sepal-length  sepal-width  petal-length  petal-width\n",
       "0             5.1          3.5           1.4          0.2\n",
       "1             4.9          3.0           1.4          0.2\n",
       "2             4.7          3.2           1.3          0.2\n",
       "3             4.6          3.1           1.5          0.2\n",
       "4             5.0          3.6           1.4          0.2\n",
       "..            ...          ...           ...          ...\n",
       "145           6.7          3.0           5.2          2.3\n",
       "146           6.3          2.5           5.0          1.9\n",
       "147           6.5          3.0           5.2          2.0\n",
       "148           6.2          3.4           5.4          2.3\n",
       "149           5.9          3.0           5.1          1.8\n",
       "\n",
       "[150 rows x 4 columns]"
      ]
     },
     "execution_count": 6,
     "metadata": {},
     "output_type": "execute_result"
    }
   ],
   "source": [
    "df_X"
   ]
  },
  {
   "cell_type": "code",
   "execution_count": 7,
   "id": "a998539e",
   "metadata": {},
   "outputs": [
    {
     "data": {
      "text/plain": [
       "0      0\n",
       "1      0\n",
       "2      0\n",
       "3      0\n",
       "4      0\n",
       "      ..\n",
       "145    2\n",
       "146    2\n",
       "147    2\n",
       "148    2\n",
       "149    2\n",
       "Name: species, Length: 150, dtype: int64"
      ]
     },
     "execution_count": 7,
     "metadata": {},
     "output_type": "execute_result"
    }
   ],
   "source": [
    "df_y"
   ]
  },
  {
   "cell_type": "code",
   "execution_count": 8,
   "id": "c62d3384",
   "metadata": {},
   "outputs": [],
   "source": [
    "x = df_X.values \n",
    "min_max_scaler = MinMaxScaler()\n",
    "x_scaled = min_max_scaler.fit_transform(x)\n",
    "df_X = pd.DataFrame(x_scaled, columns=df_X.columns)"
   ]
  },
  {
   "cell_type": "code",
   "execution_count": 9,
   "id": "7f176728",
   "metadata": {},
   "outputs": [
    {
     "data": {
      "text/html": [
       "<div>\n",
       "<style scoped>\n",
       "    .dataframe tbody tr th:only-of-type {\n",
       "        vertical-align: middle;\n",
       "    }\n",
       "\n",
       "    .dataframe tbody tr th {\n",
       "        vertical-align: top;\n",
       "    }\n",
       "\n",
       "    .dataframe thead th {\n",
       "        text-align: right;\n",
       "    }\n",
       "</style>\n",
       "<table border=\"1\" class=\"dataframe\">\n",
       "  <thead>\n",
       "    <tr style=\"text-align: right;\">\n",
       "      <th></th>\n",
       "      <th>sepal-length</th>\n",
       "      <th>sepal-width</th>\n",
       "      <th>petal-length</th>\n",
       "      <th>petal-width</th>\n",
       "    </tr>\n",
       "  </thead>\n",
       "  <tbody>\n",
       "    <tr>\n",
       "      <th>0</th>\n",
       "      <td>0.222222</td>\n",
       "      <td>0.625000</td>\n",
       "      <td>0.067797</td>\n",
       "      <td>0.041667</td>\n",
       "    </tr>\n",
       "    <tr>\n",
       "      <th>1</th>\n",
       "      <td>0.166667</td>\n",
       "      <td>0.416667</td>\n",
       "      <td>0.067797</td>\n",
       "      <td>0.041667</td>\n",
       "    </tr>\n",
       "    <tr>\n",
       "      <th>2</th>\n",
       "      <td>0.111111</td>\n",
       "      <td>0.500000</td>\n",
       "      <td>0.050847</td>\n",
       "      <td>0.041667</td>\n",
       "    </tr>\n",
       "    <tr>\n",
       "      <th>3</th>\n",
       "      <td>0.083333</td>\n",
       "      <td>0.458333</td>\n",
       "      <td>0.084746</td>\n",
       "      <td>0.041667</td>\n",
       "    </tr>\n",
       "    <tr>\n",
       "      <th>4</th>\n",
       "      <td>0.194444</td>\n",
       "      <td>0.666667</td>\n",
       "      <td>0.067797</td>\n",
       "      <td>0.041667</td>\n",
       "    </tr>\n",
       "    <tr>\n",
       "      <th>...</th>\n",
       "      <td>...</td>\n",
       "      <td>...</td>\n",
       "      <td>...</td>\n",
       "      <td>...</td>\n",
       "    </tr>\n",
       "    <tr>\n",
       "      <th>145</th>\n",
       "      <td>0.666667</td>\n",
       "      <td>0.416667</td>\n",
       "      <td>0.711864</td>\n",
       "      <td>0.916667</td>\n",
       "    </tr>\n",
       "    <tr>\n",
       "      <th>146</th>\n",
       "      <td>0.555556</td>\n",
       "      <td>0.208333</td>\n",
       "      <td>0.677966</td>\n",
       "      <td>0.750000</td>\n",
       "    </tr>\n",
       "    <tr>\n",
       "      <th>147</th>\n",
       "      <td>0.611111</td>\n",
       "      <td>0.416667</td>\n",
       "      <td>0.711864</td>\n",
       "      <td>0.791667</td>\n",
       "    </tr>\n",
       "    <tr>\n",
       "      <th>148</th>\n",
       "      <td>0.527778</td>\n",
       "      <td>0.583333</td>\n",
       "      <td>0.745763</td>\n",
       "      <td>0.916667</td>\n",
       "    </tr>\n",
       "    <tr>\n",
       "      <th>149</th>\n",
       "      <td>0.444444</td>\n",
       "      <td>0.416667</td>\n",
       "      <td>0.694915</td>\n",
       "      <td>0.708333</td>\n",
       "    </tr>\n",
       "  </tbody>\n",
       "</table>\n",
       "<p>150 rows × 4 columns</p>\n",
       "</div>"
      ],
      "text/plain": [
       "     sepal-length  sepal-width  petal-length  petal-width\n",
       "0        0.222222     0.625000      0.067797     0.041667\n",
       "1        0.166667     0.416667      0.067797     0.041667\n",
       "2        0.111111     0.500000      0.050847     0.041667\n",
       "3        0.083333     0.458333      0.084746     0.041667\n",
       "4        0.194444     0.666667      0.067797     0.041667\n",
       "..            ...          ...           ...          ...\n",
       "145      0.666667     0.416667      0.711864     0.916667\n",
       "146      0.555556     0.208333      0.677966     0.750000\n",
       "147      0.611111     0.416667      0.711864     0.791667\n",
       "148      0.527778     0.583333      0.745763     0.916667\n",
       "149      0.444444     0.416667      0.694915     0.708333\n",
       "\n",
       "[150 rows x 4 columns]"
      ]
     },
     "execution_count": 9,
     "metadata": {},
     "output_type": "execute_result"
    }
   ],
   "source": [
    "df_X"
   ]
  },
  {
   "cell_type": "markdown",
   "id": "574d9283",
   "metadata": {},
   "source": [
    "# Create linguistic variables"
   ]
  },
  {
   "cell_type": "code",
   "execution_count": 10,
   "id": "d6d355b5",
   "metadata": {},
   "outputs": [],
   "source": [
    "from doggos.knowledge import LinguisticVariable, Domain"
   ]
  },
  {
   "cell_type": "code",
   "execution_count": 11,
   "id": "ab1614b5",
   "metadata": {},
   "outputs": [],
   "source": [
    "# features linguistic variables\n",
    "sepal_length = LinguisticVariable('sepal-length', Domain(0, 1.001, 0.001))\n",
    "sepal_width = LinguisticVariable('sepal-width', Domain(0, 1.001, 0.001))\n",
    "petal_length = LinguisticVariable('petal-length', Domain(0, 1.001, 0.001))\n",
    "petal_width = LinguisticVariable('petal-width', Domain(0, 1.001, 0.001))"
   ]
  },
  {
   "cell_type": "code",
   "execution_count": 12,
   "id": "0cc17e64",
   "metadata": {},
   "outputs": [],
   "source": [
    "# decision linguistic variable\n",
    "species = [LinguisticVariable('0', Domain(0, 1, 0.001)), \n",
    "           LinguisticVariable('1', Domain(0, 1, 0.001)), \n",
    "           LinguisticVariable('2', Domain(0, 1, 0.001))]"
   ]
  },
  {
   "cell_type": "markdown",
   "id": "f7020785",
   "metadata": {},
   "source": [
    "# Define clauses"
   ]
  },
  {
   "cell_type": "code",
   "execution_count": 13,
   "id": "dea7403b",
   "metadata": {},
   "outputs": [],
   "source": [
    "from doggos.knowledge import Clause\n",
    "from doggos.fuzzy_sets import IntervalType2FuzzySet\n",
    "from doggos.utils.membership_functions import triangular, trapezoidal, gaussian"
   ]
  },
  {
   "cell_type": "code",
   "execution_count": 14,
   "id": "63112c47",
   "metadata": {},
   "outputs": [],
   "source": [
    "clauses = [\n",
    "    # clauses for petal length\n",
    "    Clause(petal_length, 'small', IntervalType2FuzzySet(triangular(0, 0.25, 0.5, 0.8), triangular(0, 0.25, 0.5))),\n",
    "    Clause(petal_length, 'medium', IntervalType2FuzzySet(triangular(0.25, 0.5, 0.75, 0.8), triangular(0.25, 0.5, 0.75))),\n",
    "    Clause(petal_length, 'big', IntervalType2FuzzySet(triangular(0.5, 0.75, 1, 0.8), triangular(0.5, 0.75, 1, 1))),\n",
    "    # clauses for petal width\n",
    "    Clause(petal_width, 'small', IntervalType2FuzzySet(gaussian(0.25, 0.1), gaussian(0.25, 0.15))),\n",
    "    Clause(petal_width, 'medium', IntervalType2FuzzySet(gaussian(0.5, 0.1), gaussian(0.5, 0.15))),\n",
    "    Clause(petal_width, 'big', IntervalType2FuzzySet(gaussian(0.75, 0.1), gaussian(0.75, 0.15))),\n",
    "    # claueses for sepal length\n",
    "    Clause(sepal_length, 'small', IntervalType2FuzzySet(triangular(0, 0.25, 0.5, 0.8), triangular(0, 0.25, 0.5))),\n",
    "    Clause(sepal_length, 'medium', IntervalType2FuzzySet(triangular(0.25, 0.5, 0.75, 0.8), triangular(0.25, 0.5, 0.75))),\n",
    "    Clause(sepal_length, 'big', IntervalType2FuzzySet(triangular(0.6, 0.9, 1, 0.8), triangular(0.6, 0.9, 1, 1))),\n",
    "    # clauses for sepal width\n",
    "    Clause(sepal_width, 'small', IntervalType2FuzzySet(gaussian(0.25, 0.1), gaussian(0.25, 0.15))),\n",
    "    Clause(sepal_width, 'medium', IntervalType2FuzzySet(gaussian(0.5, 0.1), gaussian(0.5, 0.15))),\n",
    "    Clause(sepal_width, 'big', IntervalType2FuzzySet(gaussian(0.75, 0.1), gaussian(0.75, 0.15)))\n",
    "]"
   ]
  },
  {
   "cell_type": "code",
   "execution_count": 15,
   "id": "7a9300a5",
   "metadata": {},
   "outputs": [
    {
     "name": "stdout",
     "output_type": "stream",
     "text": [
      "Clause petal-length is small\n",
      "Clause petal-length is medium\n",
      "Clause petal-length is big\n",
      "Clause petal-width is small\n",
      "Clause petal-width is medium\n",
      "Clause petal-width is big\n",
      "Clause sepal-length is small\n",
      "Clause sepal-length is medium\n",
      "Clause sepal-length is big\n",
      "Clause sepal-width is small\n",
      "Clause sepal-width is medium\n",
      "Clause sepal-width is big\n"
     ]
    }
   ],
   "source": [
    "for clause in clauses:\n",
    "    print(clause)"
   ]
  },
  {
   "cell_type": "markdown",
   "id": "312b659e",
   "metadata": {},
   "source": [
    "# Define consequents"
   ]
  },
  {
   "cell_type": "code",
   "execution_count": 16,
   "id": "fd730297",
   "metadata": {},
   "outputs": [],
   "source": [
    "from doggos.knowledge.consequents import TakagiSugenoConsequent"
   ]
  },
  {
   "cell_type": "code",
   "execution_count": 17,
   "id": "0d64b30b",
   "metadata": {},
   "outputs": [],
   "source": [
    "parameters_1 = {sepal_length: 0.25, sepal_width: 0.25, petal_length: 0.5, petal_width: 0.5}\n",
    "parameters_2 = {sepal_length: 0.15, sepal_width: 0.35, petal_length: 0.15, petal_width: 0.35}\n",
    "parameters_3 = {sepal_length: 0.35, sepal_width: 0.15, petal_length: 0.35, petal_width: 0.15}\n",
    "consequent_1 = TakagiSugenoConsequent(parameters_1, 0, species[0])\n",
    "consequent_2 = TakagiSugenoConsequent(parameters_2, 0, species[0])\n",
    "consequent_3 = TakagiSugenoConsequent(parameters_3, 0, species[0])"
   ]
  },
  {
   "cell_type": "markdown",
   "id": "6acc528f",
   "metadata": {},
   "source": [
    "# Define terms"
   ]
  },
  {
   "cell_type": "code",
   "execution_count": 18,
   "id": "efa0266c",
   "metadata": {},
   "outputs": [],
   "source": [
    "from doggos.knowledge import Term\n",
    "from doggos.algebras import LukasiewiczAlgebra"
   ]
  },
  {
   "cell_type": "code",
   "execution_count": 19,
   "id": "83b27335",
   "metadata": {},
   "outputs": [],
   "source": [
    "terms = list()\n",
    "algebra = LukasiewiczAlgebra()\n",
    "for clause in clauses:\n",
    "    terms.append(Term(algebra, clause))"
   ]
  },
  {
   "cell_type": "markdown",
   "id": "e8e3e144",
   "metadata": {},
   "source": [
    "# Define antecedents"
   ]
  },
  {
   "cell_type": "code",
   "execution_count": 20,
   "id": "095beb9b",
   "metadata": {},
   "outputs": [],
   "source": [
    "# define random antecedents\n",
    "antecedent1 = terms[0] & terms[3] | terms[5]\n",
    "antecedent2 = (terms[1] & terms[4]) | (terms[3] & terms[8])\n",
    "antecedent3 = terms[2] & (terms[0] & terms[7] & (terms[3] | terms[6]) | terms[8])"
   ]
  },
  {
   "cell_type": "markdown",
   "id": "a4ab0be7",
   "metadata": {},
   "source": [
    "# Create rules"
   ]
  },
  {
   "cell_type": "code",
   "execution_count": 21,
   "id": "4b999c45",
   "metadata": {},
   "outputs": [],
   "source": [
    "from doggos.knowledge import Rule"
   ]
  },
  {
   "cell_type": "code",
   "execution_count": 22,
   "id": "11b46b34",
   "metadata": {},
   "outputs": [],
   "source": [
    "rules = [\n",
    "    Rule(antecedent1, consequent_1),\n",
    "    Rule(antecedent2, consequent_2),\n",
    "    Rule(antecedent3, consequent_3)\n",
    "]"
   ]
  },
  {
   "cell_type": "markdown",
   "id": "4e179e63",
   "metadata": {},
   "source": [
    "# Fuzzify dataset"
   ]
  },
  {
   "cell_type": "code",
   "execution_count": 23,
   "id": "f7e412e2",
   "metadata": {},
   "outputs": [],
   "source": [
    "from doggos.knowledge import fuzzify"
   ]
  },
  {
   "cell_type": "code",
   "execution_count": 24,
   "id": "2bcb2cb5",
   "metadata": {},
   "outputs": [],
   "source": [
    "df_X_fuzzified = fuzzify(df_X, clauses)"
   ]
  },
  {
   "cell_type": "code",
   "execution_count": 25,
   "id": "a0681169",
   "metadata": {},
   "outputs": [],
   "source": [
    "data = df_X.reset_index().to_dict(orient='list')"
   ]
  },
  {
   "cell_type": "code",
   "execution_count": 26,
   "id": "73092b81",
   "metadata": {},
   "outputs": [],
   "source": [
    "measures = {sepal_length: data['sepal-length'], \n",
    "         sepal_width: data['sepal-width'], \n",
    "         petal_length: data['petal-length'], \n",
    "         petal_width: data['petal-width']}"
   ]
  },
  {
   "cell_type": "markdown",
   "id": "d41c891c",
   "metadata": {},
   "source": [
    "# Create inference system"
   ]
  },
  {
   "cell_type": "code",
   "execution_count": 27,
   "id": "1a4a8b9c",
   "metadata": {},
   "outputs": [],
   "source": [
    "from doggos.inference import TakagiSugenoInferenceSystem\n",
    "from doggos.inference.defuzzification_algorithms import takagi_sugeno_karnik_mendel"
   ]
  },
  {
   "cell_type": "code",
   "execution_count": 28,
   "id": "3f0546bb",
   "metadata": {},
   "outputs": [],
   "source": [
    "inference_system = TakagiSugenoInferenceSystem(rules)"
   ]
  },
  {
   "cell_type": "code",
   "execution_count": 29,
   "id": "e02e328b",
   "metadata": {},
   "outputs": [],
   "source": [
    "result = inference_system.infer(takagi_sugeno_karnik_mendel, df_X_fuzzified, measures)"
   ]
  },
  {
   "cell_type": "markdown",
   "id": "dddea131",
   "metadata": {},
   "source": [
    "# Make classification"
   ]
  },
  {
   "cell_type": "code",
   "execution_count": 30,
   "id": "89248eb3",
   "metadata": {},
   "outputs": [],
   "source": [
    "from sklearn.metrics import accuracy_score"
   ]
  },
  {
   "cell_type": "code",
   "execution_count": 31,
   "id": "4c2894be",
   "metadata": {},
   "outputs": [],
   "source": [
    "theta1 = 0.38\n",
    "theta2 = 0.72"
   ]
  },
  {
   "cell_type": "code",
   "execution_count": 32,
   "id": "44af73c1",
   "metadata": {},
   "outputs": [],
   "source": [
    "def classify(theta1, theta2):\n",
    "    def _classify(x):\n",
    "        if x < theta1:\n",
    "            return 0\n",
    "        elif theta1 <= x < theta2:\n",
    "            return 1\n",
    "        else:\n",
    "            return 2\n",
    "    return _classify"
   ]
  },
  {
   "cell_type": "code",
   "execution_count": 33,
   "id": "4c3ff9d3",
   "metadata": {},
   "outputs": [],
   "source": [
    "classify_func = classify(theta1, theta2)\n",
    "y_pred = list(map(lambda x: classify_func(x), result[species[0]]))"
   ]
  },
  {
   "cell_type": "code",
   "execution_count": 34,
   "id": "d3ceb4d7",
   "metadata": {},
   "outputs": [
    {
     "name": "stdout",
     "output_type": "stream",
     "text": [
      "Accuracy: 0.89333\n"
     ]
    }
   ],
   "source": [
    "accuracy = accuracy_score(y_pred, df_y.values)\n",
    "print(f'Accuracy: {accuracy:.5f}')"
   ]
  },
  {
   "cell_type": "code",
   "execution_count": null,
   "id": "3d9c1aed",
   "metadata": {},
   "outputs": [],
   "source": []
  }
 ],
 "metadata": {
  "kernelspec": {
   "display_name": "Python 3",
   "language": "python",
   "name": "python3"
  },
  "language_info": {
   "codemirror_mode": {
    "name": "ipython",
    "version": 3
   },
   "file_extension": ".py",
   "mimetype": "text/x-python",
   "name": "python",
   "nbconvert_exporter": "python",
   "pygments_lexer": "ipython3",
   "version": "3.9.1"
  }
 },
 "nbformat": 4,
 "nbformat_minor": 5
}
