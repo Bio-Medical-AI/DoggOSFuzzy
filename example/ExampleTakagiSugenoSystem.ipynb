{
 "cells": [
  {
   "cell_type": "code",
   "execution_count": 1,
   "metadata": {},
   "outputs": [],
   "source": [
    "import os\n",
    "os.chdir('..')"
   ]
  },
  {
   "cell_type": "markdown",
   "metadata": {},
   "source": [
    "# Import necessary modules"
   ]
  },
  {
   "cell_type": "code",
   "execution_count": 2,
   "metadata": {},
   "outputs": [],
   "source": [
    "import numpy as np\n",
    "import pandas as pd\n",
    "import matplotlib.pyplot as plt"
   ]
  },
  {
   "cell_type": "markdown",
   "metadata": {},
   "source": [
    "# Read dataset"
   ]
  },
  {
   "cell_type": "code",
   "execution_count": 3,
   "metadata": {},
   "outputs": [],
   "source": [
    "from sklearn.preprocessing import MinMaxScaler"
   ]
  },
  {
   "cell_type": "code",
   "execution_count": 4,
   "metadata": {},
   "outputs": [],
   "source": [
    "species_map = {'Iris-setosa': 0, 'Iris-versicolor': 1, 'Iris-virginica': 2}"
   ]
  },
  {
   "cell_type": "code",
   "execution_count": 5,
   "metadata": {},
   "outputs": [],
   "source": [
    "df = pd.read_csv('example/data.csv')"
   ]
  },
  {
   "cell_type": "code",
   "execution_count": 6,
   "metadata": {},
   "outputs": [],
   "source": [
    "df_X = df.drop(columns='species')\n",
    "df_y = df['species'].map(species_map)"
   ]
  },
  {
   "cell_type": "code",
   "execution_count": 7,
   "metadata": {},
   "outputs": [
    {
     "data": {
      "text/html": [
       "<div>\n",
       "<style scoped>\n",
       "    .dataframe tbody tr th:only-of-type {\n",
       "        vertical-align: middle;\n",
       "    }\n",
       "\n",
       "    .dataframe tbody tr th {\n",
       "        vertical-align: top;\n",
       "    }\n",
       "\n",
       "    .dataframe thead th {\n",
       "        text-align: right;\n",
       "    }\n",
       "</style>\n",
       "<table border=\"1\" class=\"dataframe\">\n",
       "  <thead>\n",
       "    <tr style=\"text-align: right;\">\n",
       "      <th></th>\n",
       "      <th>sepal-length</th>\n",
       "      <th>sepal-width</th>\n",
       "      <th>petal-length</th>\n",
       "      <th>petal-width</th>\n",
       "    </tr>\n",
       "  </thead>\n",
       "  <tbody>\n",
       "    <tr>\n",
       "      <th>0</th>\n",
       "      <td>5.1</td>\n",
       "      <td>3.5</td>\n",
       "      <td>1.4</td>\n",
       "      <td>0.2</td>\n",
       "    </tr>\n",
       "    <tr>\n",
       "      <th>1</th>\n",
       "      <td>4.9</td>\n",
       "      <td>3.0</td>\n",
       "      <td>1.4</td>\n",
       "      <td>0.2</td>\n",
       "    </tr>\n",
       "    <tr>\n",
       "      <th>2</th>\n",
       "      <td>4.7</td>\n",
       "      <td>3.2</td>\n",
       "      <td>1.3</td>\n",
       "      <td>0.2</td>\n",
       "    </tr>\n",
       "    <tr>\n",
       "      <th>3</th>\n",
       "      <td>4.6</td>\n",
       "      <td>3.1</td>\n",
       "      <td>1.5</td>\n",
       "      <td>0.2</td>\n",
       "    </tr>\n",
       "    <tr>\n",
       "      <th>4</th>\n",
       "      <td>5.0</td>\n",
       "      <td>3.6</td>\n",
       "      <td>1.4</td>\n",
       "      <td>0.2</td>\n",
       "    </tr>\n",
       "    <tr>\n",
       "      <th>...</th>\n",
       "      <td>...</td>\n",
       "      <td>...</td>\n",
       "      <td>...</td>\n",
       "      <td>...</td>\n",
       "    </tr>\n",
       "    <tr>\n",
       "      <th>145</th>\n",
       "      <td>6.7</td>\n",
       "      <td>3.0</td>\n",
       "      <td>5.2</td>\n",
       "      <td>2.3</td>\n",
       "    </tr>\n",
       "    <tr>\n",
       "      <th>146</th>\n",
       "      <td>6.3</td>\n",
       "      <td>2.5</td>\n",
       "      <td>5.0</td>\n",
       "      <td>1.9</td>\n",
       "    </tr>\n",
       "    <tr>\n",
       "      <th>147</th>\n",
       "      <td>6.5</td>\n",
       "      <td>3.0</td>\n",
       "      <td>5.2</td>\n",
       "      <td>2.0</td>\n",
       "    </tr>\n",
       "    <tr>\n",
       "      <th>148</th>\n",
       "      <td>6.2</td>\n",
       "      <td>3.4</td>\n",
       "      <td>5.4</td>\n",
       "      <td>2.3</td>\n",
       "    </tr>\n",
       "    <tr>\n",
       "      <th>149</th>\n",
       "      <td>5.9</td>\n",
       "      <td>3.0</td>\n",
       "      <td>5.1</td>\n",
       "      <td>1.8</td>\n",
       "    </tr>\n",
       "  </tbody>\n",
       "</table>\n",
       "<p>150 rows × 4 columns</p>\n",
       "</div>"
      ],
      "text/plain": [
       "     sepal-length  sepal-width  petal-length  petal-width\n",
       "0             5.1          3.5           1.4          0.2\n",
       "1             4.9          3.0           1.4          0.2\n",
       "2             4.7          3.2           1.3          0.2\n",
       "3             4.6          3.1           1.5          0.2\n",
       "4             5.0          3.6           1.4          0.2\n",
       "..            ...          ...           ...          ...\n",
       "145           6.7          3.0           5.2          2.3\n",
       "146           6.3          2.5           5.0          1.9\n",
       "147           6.5          3.0           5.2          2.0\n",
       "148           6.2          3.4           5.4          2.3\n",
       "149           5.9          3.0           5.1          1.8\n",
       "\n",
       "[150 rows x 4 columns]"
      ]
     },
     "execution_count": 7,
     "metadata": {},
     "output_type": "execute_result"
    }
   ],
   "source": [
    "df_X"
   ]
  },
  {
   "cell_type": "code",
   "execution_count": 8,
   "metadata": {},
   "outputs": [
    {
     "data": {
      "text/plain": [
       "0      0\n",
       "1      0\n",
       "2      0\n",
       "3      0\n",
       "4      0\n",
       "      ..\n",
       "145    2\n",
       "146    2\n",
       "147    2\n",
       "148    2\n",
       "149    2\n",
       "Name: species, Length: 150, dtype: int64"
      ]
     },
     "execution_count": 8,
     "metadata": {},
     "output_type": "execute_result"
    }
   ],
   "source": [
    "df_y"
   ]
  },
  {
   "cell_type": "code",
   "execution_count": 9,
   "metadata": {},
   "outputs": [],
   "source": [
    "x = df_X.values \n",
    "min_max_scaler = MinMaxScaler()\n",
    "x_scaled = min_max_scaler.fit_transform(x)\n",
    "df_X = pd.DataFrame(x_scaled, columns=df_X.columns)"
   ]
  },
  {
   "cell_type": "code",
   "execution_count": 10,
   "metadata": {},
   "outputs": [
    {
     "data": {
      "text/html": [
       "<div>\n",
       "<style scoped>\n",
       "    .dataframe tbody tr th:only-of-type {\n",
       "        vertical-align: middle;\n",
       "    }\n",
       "\n",
       "    .dataframe tbody tr th {\n",
       "        vertical-align: top;\n",
       "    }\n",
       "\n",
       "    .dataframe thead th {\n",
       "        text-align: right;\n",
       "    }\n",
       "</style>\n",
       "<table border=\"1\" class=\"dataframe\">\n",
       "  <thead>\n",
       "    <tr style=\"text-align: right;\">\n",
       "      <th></th>\n",
       "      <th>sepal-length</th>\n",
       "      <th>sepal-width</th>\n",
       "      <th>petal-length</th>\n",
       "      <th>petal-width</th>\n",
       "    </tr>\n",
       "  </thead>\n",
       "  <tbody>\n",
       "    <tr>\n",
       "      <th>0</th>\n",
       "      <td>0.222222</td>\n",
       "      <td>0.625000</td>\n",
       "      <td>0.067797</td>\n",
       "      <td>0.041667</td>\n",
       "    </tr>\n",
       "    <tr>\n",
       "      <th>1</th>\n",
       "      <td>0.166667</td>\n",
       "      <td>0.416667</td>\n",
       "      <td>0.067797</td>\n",
       "      <td>0.041667</td>\n",
       "    </tr>\n",
       "    <tr>\n",
       "      <th>2</th>\n",
       "      <td>0.111111</td>\n",
       "      <td>0.500000</td>\n",
       "      <td>0.050847</td>\n",
       "      <td>0.041667</td>\n",
       "    </tr>\n",
       "    <tr>\n",
       "      <th>3</th>\n",
       "      <td>0.083333</td>\n",
       "      <td>0.458333</td>\n",
       "      <td>0.084746</td>\n",
       "      <td>0.041667</td>\n",
       "    </tr>\n",
       "    <tr>\n",
       "      <th>4</th>\n",
       "      <td>0.194444</td>\n",
       "      <td>0.666667</td>\n",
       "      <td>0.067797</td>\n",
       "      <td>0.041667</td>\n",
       "    </tr>\n",
       "    <tr>\n",
       "      <th>...</th>\n",
       "      <td>...</td>\n",
       "      <td>...</td>\n",
       "      <td>...</td>\n",
       "      <td>...</td>\n",
       "    </tr>\n",
       "    <tr>\n",
       "      <th>145</th>\n",
       "      <td>0.666667</td>\n",
       "      <td>0.416667</td>\n",
       "      <td>0.711864</td>\n",
       "      <td>0.916667</td>\n",
       "    </tr>\n",
       "    <tr>\n",
       "      <th>146</th>\n",
       "      <td>0.555556</td>\n",
       "      <td>0.208333</td>\n",
       "      <td>0.677966</td>\n",
       "      <td>0.750000</td>\n",
       "    </tr>\n",
       "    <tr>\n",
       "      <th>147</th>\n",
       "      <td>0.611111</td>\n",
       "      <td>0.416667</td>\n",
       "      <td>0.711864</td>\n",
       "      <td>0.791667</td>\n",
       "    </tr>\n",
       "    <tr>\n",
       "      <th>148</th>\n",
       "      <td>0.527778</td>\n",
       "      <td>0.583333</td>\n",
       "      <td>0.745763</td>\n",
       "      <td>0.916667</td>\n",
       "    </tr>\n",
       "    <tr>\n",
       "      <th>149</th>\n",
       "      <td>0.444444</td>\n",
       "      <td>0.416667</td>\n",
       "      <td>0.694915</td>\n",
       "      <td>0.708333</td>\n",
       "    </tr>\n",
       "  </tbody>\n",
       "</table>\n",
       "<p>150 rows × 4 columns</p>\n",
       "</div>"
      ],
      "text/plain": [
       "     sepal-length  sepal-width  petal-length  petal-width\n",
       "0        0.222222     0.625000      0.067797     0.041667\n",
       "1        0.166667     0.416667      0.067797     0.041667\n",
       "2        0.111111     0.500000      0.050847     0.041667\n",
       "3        0.083333     0.458333      0.084746     0.041667\n",
       "4        0.194444     0.666667      0.067797     0.041667\n",
       "..            ...          ...           ...          ...\n",
       "145      0.666667     0.416667      0.711864     0.916667\n",
       "146      0.555556     0.208333      0.677966     0.750000\n",
       "147      0.611111     0.416667      0.711864     0.791667\n",
       "148      0.527778     0.583333      0.745763     0.916667\n",
       "149      0.444444     0.416667      0.694915     0.708333\n",
       "\n",
       "[150 rows x 4 columns]"
      ]
     },
     "execution_count": 10,
     "metadata": {},
     "output_type": "execute_result"
    }
   ],
   "source": [
    "df_X"
   ]
  },
  {
   "cell_type": "markdown",
   "metadata": {},
   "source": [
    "# Create linguistic variables"
   ]
  },
  {
   "cell_type": "code",
   "execution_count": 11,
   "metadata": {},
   "outputs": [],
   "source": [
    "from doggos.knowledge import LinguisticVariable, Domain"
   ]
  },
  {
   "cell_type": "code",
   "execution_count": 12,
   "metadata": {},
   "outputs": [],
   "source": [
    "# features linguistic variables\n",
    "sepal_length = LinguisticVariable('sepal-length', Domain(0, 1.001, 0.001))\n",
    "sepal_width = LinguisticVariable('sepal-width', Domain(0, 1.001, 0.001))\n",
    "petal_length = LinguisticVariable('petal-length', Domain(0, 1.001, 0.001))\n",
    "petal_width = LinguisticVariable('petal-width', Domain(0, 1.001, 0.001))"
   ]
  },
  {
   "cell_type": "code",
   "execution_count": 13,
   "metadata": {},
   "outputs": [],
   "source": [
    "# decision linguistic variable\n",
    "species = [LinguisticVariable('0', Domain(0, 1, 0.001)), \n",
    "           LinguisticVariable('1', Domain(0, 1, 0.001)), \n",
    "           LinguisticVariable('2', Domain(0, 1, 0.001))]"
   ]
  },
  {
   "cell_type": "markdown",
   "metadata": {},
   "source": [
    "# Define clauses"
   ]
  },
  {
   "cell_type": "code",
   "execution_count": 14,
   "metadata": {},
   "outputs": [],
   "source": [
    "from doggos.knowledge import Clause\n",
    "from doggos.fuzzy_sets import IntervalType2FuzzySet\n",
    "from doggos.utils.membership_functions import triangular, trapezoidal, gaussian"
   ]
  },
  {
   "cell_type": "code",
   "execution_count": 15,
   "metadata": {},
   "outputs": [],
   "source": [
    "clauses = [\n",
    "    # clauses for petal length\n",
    "    Clause(petal_length, 'small', IntervalType2FuzzySet(triangular(0, 0.25, 0.5, 0.8), triangular(0, 0.25, 0.5))),\n",
    "    Clause(petal_length, 'medium', IntervalType2FuzzySet(triangular(0.25, 0.5, 0.75, 0.8), triangular(0.25, 0.5, 0.75))),\n",
    "    Clause(petal_length, 'big', IntervalType2FuzzySet(triangular(0.5, 0.75, 1, 0.8), triangular(0.5, 0.75, 1, 1))),\n",
    "    # clauses for petal width\n",
    "    Clause(petal_width, 'small', IntervalType2FuzzySet(gaussian(0.25, 0.1), gaussian(0.25, 0.15))),\n",
    "    Clause(petal_width, 'medium', IntervalType2FuzzySet(gaussian(0.5, 0.1), gaussian(0.5, 0.15))),\n",
    "    Clause(petal_width, 'big', IntervalType2FuzzySet(gaussian(0.75, 0.1), gaussian(0.75, 0.15))),\n",
    "    # claueses for sepal length\n",
    "    Clause(sepal_length, 'small', IntervalType2FuzzySet(triangular(0, 0.25, 0.5, 0.8), triangular(0, 0.25, 0.5))),\n",
    "    Clause(sepal_length, 'medium', IntervalType2FuzzySet(triangular(0.25, 0.5, 0.75, 0.8), triangular(0.25, 0.5, 0.75))),\n",
    "    Clause(sepal_length, 'big', IntervalType2FuzzySet(triangular(0.6, 0.9, 1, 0.8), triangular(0.6, 0.9, 1, 1))),\n",
    "    # clauses for sepal width\n",
    "    Clause(sepal_width, 'small', IntervalType2FuzzySet(gaussian(0.25, 0.1), gaussian(0.25, 0.15))),\n",
    "    Clause(sepal_width, 'medium', IntervalType2FuzzySet(gaussian(0.5, 0.1), gaussian(0.5, 0.15))),\n",
    "    Clause(sepal_width, 'big', IntervalType2FuzzySet(gaussian(0.75, 0.1), gaussian(0.75, 0.15)))\n",
    "]"
   ]
  },
  {
   "cell_type": "code",
   "execution_count": 16,
   "metadata": {},
   "outputs": [
    {
     "name": "stdout",
     "output_type": "stream",
     "text": [
      "Clause petal-length is small\n",
      "asd\n",
      "Clause petal-length is medium\n",
      "asd\n",
      "Clause petal-length is big\n",
      "asd\n",
      "Clause petal-width is small\n",
      "asd\n",
      "Clause petal-width is medium\n",
      "asd\n",
      "Clause petal-width is big\n",
      "asd\n",
      "Clause sepal-length is small\n",
      "asd\n",
      "Clause sepal-length is medium\n",
      "asd\n",
      "Clause sepal-length is big\n",
      "asd\n",
      "Clause sepal-width is small\n",
      "asd\n",
      "Clause sepal-width is medium\n",
      "asd\n",
      "Clause sepal-width is big\n",
      "asd\n"
     ]
    }
   ],
   "source": [
    "for clause in clauses:\n",
    "    print(clause)\n",
    "    print('asd')"
   ]
  },
  {
   "cell_type": "markdown",
   "metadata": {},
   "source": [
    "# Define consequents"
   ]
  },
  {
   "cell_type": "code",
   "execution_count": 17,
   "metadata": {},
   "outputs": [],
   "source": [
    "from doggos.knowledge.consequents import TakagiSugenoConsequent"
   ]
  },
  {
   "cell_type": "code",
   "execution_count": 18,
   "metadata": {},
   "outputs": [],
   "source": [
    "parameters_1 = {sepal_length: 0.25, sepal_width: 0.25, petal_length: 0.5, petal_width: 0.5}\n",
    "parameters_2 = {sepal_length: 0.15, sepal_width: 0.35, petal_length: 0.15, petal_width: 0.35}\n",
    "parameters_3 = {sepal_length: 0.35, sepal_width: 0.15, petal_length: 0.35, petal_width: 0.15}\n",
    "consequent_1 = TakagiSugenoConsequent(parameters_1, 0, species[0])\n",
    "consequent_2 = TakagiSugenoConsequent(parameters_2, 0, species[0])\n",
    "consequent_3 = TakagiSugenoConsequent(parameters_3, 0, species[0])"
   ]
  },
  {
   "cell_type": "markdown",
   "metadata": {},
   "source": [
    "# Define terms"
   ]
  },
  {
   "cell_type": "code",
   "execution_count": 19,
   "metadata": {},
   "outputs": [],
   "source": [
    "from doggos.knowledge import Term\n",
    "from doggos.algebras import LukasiewiczAlgebra"
   ]
  },
  {
   "cell_type": "code",
   "execution_count": 20,
   "metadata": {},
   "outputs": [],
   "source": [
    "terms = list()\n",
    "algebra = LukasiewiczAlgebra()\n",
    "for clause in clauses:\n",
    "    terms.append(Term(algebra, clause))"
   ]
  },
  {
   "cell_type": "markdown",
   "metadata": {},
   "source": [
    "# Define antecedents"
   ]
  },
  {
   "cell_type": "code",
   "execution_count": 1,
   "metadata": {},
   "outputs": [
    {
     "ename": "SyntaxError",
     "evalue": "invalid syntax (<ipython-input-1-bcaee32ecb8d>, line 5)",
     "output_type": "error",
     "traceback": [
      "\u001b[1;36m  File \u001b[1;32m\"<ipython-input-1-bcaee32ecb8d>\"\u001b[1;36m, line \u001b[1;32m5\u001b[0m\n\u001b[1;33m    antecedent3+= | terms[8])\u001b[0m\n\u001b[1;37m    ^\u001b[0m\n\u001b[1;31mSyntaxError\u001b[0m\u001b[1;31m:\u001b[0m invalid syntax\n"
     ]
    }
   ],
   "source": [
    "# define random antecedents\n",
    "antecedent1 = eval('terms[0] & terms[3] | terms[5]')\n",
    "antecedent2 = (terms[1] & terms[4]) | (terms[3] & terms[8])\n",
    "antecedent3 = terms[2] & (terms[0] & terms[7] & (terms[3] | terms[6]) \n",
    "antecedent3+= | terms[8])"
   ]
  },
  {
   "cell_type": "markdown",
   "metadata": {},
   "source": [
    "# Create rules"
   ]
  },
  {
   "cell_type": "code",
   "execution_count": 22,
   "metadata": {},
   "outputs": [],
   "source": [
    "from doggos.knowledge import Rule"
   ]
  },
  {
   "cell_type": "code",
   "execution_count": 23,
   "metadata": {},
   "outputs": [],
   "source": [
    "rules = [\n",
    "    Rule(antecedent1, consequent_1),\n",
    "    Rule(antecedent2, consequent_2),\n",
    "    Rule(antecedent3, consequent_3)\n",
    "]"
   ]
  },
  {
   "cell_type": "markdown",
   "metadata": {},
   "source": [
    "# Fuzzify dataset"
   ]
  },
  {
   "cell_type": "code",
   "execution_count": 24,
   "metadata": {},
   "outputs": [],
   "source": [
    "from doggos.knowledge import fuzzify"
   ]
  },
  {
   "cell_type": "code",
   "execution_count": 25,
   "metadata": {},
   "outputs": [],
   "source": [
    "df_X_fuzzified = fuzzify(df_X, clauses)"
   ]
  },
  {
   "cell_type": "code",
   "execution_count": 26,
   "metadata": {},
   "outputs": [
    {
     "data": {
      "text/plain": [
       "[0,\n",
       " 1,\n",
       " 2,\n",
       " 3,\n",
       " 4,\n",
       " 5,\n",
       " 6,\n",
       " 7,\n",
       " 8,\n",
       " 9,\n",
       " 10,\n",
       " 11,\n",
       " 12,\n",
       " 13,\n",
       " 14,\n",
       " 15,\n",
       " 16,\n",
       " 17,\n",
       " 18,\n",
       " 19,\n",
       " 20,\n",
       " 21,\n",
       " 22,\n",
       " 23,\n",
       " 24,\n",
       " 25,\n",
       " 26,\n",
       " 27,\n",
       " 28,\n",
       " 29,\n",
       " 30,\n",
       " 31,\n",
       " 32,\n",
       " 33,\n",
       " 34,\n",
       " 35,\n",
       " 36,\n",
       " 37,\n",
       " 38,\n",
       " 39,\n",
       " 40,\n",
       " 41,\n",
       " 42,\n",
       " 43,\n",
       " 44,\n",
       " 45,\n",
       " 46,\n",
       " 47,\n",
       " 48,\n",
       " 49,\n",
       " 50,\n",
       " 51,\n",
       " 52,\n",
       " 53,\n",
       " 54,\n",
       " 55,\n",
       " 56,\n",
       " 57,\n",
       " 58,\n",
       " 59,\n",
       " 60,\n",
       " 61,\n",
       " 62,\n",
       " 63,\n",
       " 64,\n",
       " 65,\n",
       " 66,\n",
       " 67,\n",
       " 68,\n",
       " 69,\n",
       " 70,\n",
       " 71,\n",
       " 72,\n",
       " 73,\n",
       " 74,\n",
       " 75,\n",
       " 76,\n",
       " 77,\n",
       " 78,\n",
       " 79,\n",
       " 80,\n",
       " 81,\n",
       " 82,\n",
       " 83,\n",
       " 84,\n",
       " 85,\n",
       " 86,\n",
       " 87,\n",
       " 88,\n",
       " 89,\n",
       " 90,\n",
       " 91,\n",
       " 92,\n",
       " 93,\n",
       " 94,\n",
       " 95,\n",
       " 96,\n",
       " 97,\n",
       " 98,\n",
       " 99,\n",
       " 100,\n",
       " 101,\n",
       " 102,\n",
       " 103,\n",
       " 104,\n",
       " 105,\n",
       " 106,\n",
       " 107,\n",
       " 108,\n",
       " 109,\n",
       " 110,\n",
       " 111,\n",
       " 112,\n",
       " 113,\n",
       " 114,\n",
       " 115,\n",
       " 116,\n",
       " 117,\n",
       " 118,\n",
       " 119,\n",
       " 120,\n",
       " 121,\n",
       " 122,\n",
       " 123,\n",
       " 124,\n",
       " 125,\n",
       " 126,\n",
       " 127,\n",
       " 128,\n",
       " 129,\n",
       " 130,\n",
       " 131,\n",
       " 132,\n",
       " 133,\n",
       " 134,\n",
       " 135,\n",
       " 136,\n",
       " 137,\n",
       " 138,\n",
       " 139,\n",
       " 140,\n",
       " 141,\n",
       " 142,\n",
       " 143,\n",
       " 144,\n",
       " 145,\n",
       " 146,\n",
       " 147,\n",
       " 148,\n",
       " 149]"
      ]
     },
     "execution_count": 26,
     "metadata": {},
     "output_type": "execute_result"
    }
   ],
   "source": [
    "data = df_X.reset_index().to_dict(orient='list')\n",
    "data.pop('index', None)"
   ]
  },
  {
   "cell_type": "code",
   "execution_count": 28,
   "metadata": {},
   "outputs": [],
   "source": [
    "measures = {sepal_length: data['sepal-length'], \n",
    "         sepal_width: data['sepal-width'], \n",
    "         petal_length: data['petal-length'], \n",
    "         petal_width: data['petal-width']}"
   ]
  },
  {
   "cell_type": "markdown",
   "metadata": {},
   "source": [
    "# Create inference system"
   ]
  },
  {
   "cell_type": "code",
   "execution_count": 29,
   "metadata": {},
   "outputs": [],
   "source": [
    "from doggos.inference import TakagiSugenoInferenceSystem\n",
    "from doggos.inference.defuzzification_algorithms import takagi_sugeno_karnik_mendel"
   ]
  },
  {
   "cell_type": "code",
   "execution_count": 30,
   "metadata": {},
   "outputs": [],
   "source": [
    "inference_system = TakagiSugenoInferenceSystem(rules)"
   ]
  },
  {
   "cell_type": "code",
   "execution_count": 31,
   "metadata": {},
   "outputs": [],
   "source": [
    "result = inference_system.infer(takagi_sugeno_karnik_mendel, df_X_fuzzified, measures)"
   ]
  },
  {
   "cell_type": "code",
   "execution_count": 32,
   "metadata": {},
   "outputs": [
    {
     "data": {
      "text/plain": [
       "{<doggos.knowledge.linguistic_variable.LinguisticVariable at 0x230d776feb0>: [0.24000614955634159,\n",
       "  0.1877356580523235,\n",
       "  0.17502477416560183,\n",
       "  0.1700002526332189,\n",
       "  0.24004402745729933,\n",
       "  0.3780583358358337,\n",
       "  0.20501261030818127,\n",
       "  0.23000303194712973,\n",
       "  0.12998745408206044,\n",
       "  0.17500000000000002,\n",
       "  0.2850904851531022,\n",
       "  0.2150355271305655,\n",
       "  0.15500350612753397,\n",
       "  0.10508119188633203,\n",
       "  0.3300653830344781,\n",
       "  0.4000003743782887,\n",
       "  0.32004020107440767,\n",
       "  0.250026343906766,\n",
       "  0.36500073916895837,\n",
       "  0.2850137500867378,\n",
       "  0.2877207241261426,\n",
       "  0.2850001502531282,\n",
       "  0.19964969433773505,\n",
       "  0.3225725681536129,\n",
       "  0.2526099855231708,\n",
       "  0.20774653683068112,\n",
       "  0.2899380180056814,\n",
       "  0.2500161929162813,\n",
       "  0.23500776491908854,\n",
       "  0.19000000000000003,\n",
       "  0.20519208776822379,\n",
       "  0.3145452277147051,\n",
       "  0.30029398076406066,\n",
       "  0.34001638965264325,\n",
       "  0.17500000000000002,\n",
       "  0.19500182085628187,\n",
       "  0.26500081209054466,\n",
       "  0.17500000000000002,\n",
       "  0.13500772885772072,\n",
       "  0.23500452998633797,\n",
       "  0.24000650767317422,\n",
       "  0.10000023059530921,\n",
       "  0.1550580412675946,\n",
       "  0.3477186846512047,\n",
       "  0.37183993073075905,\n",
       "  0.19450110349963035,\n",
       "  0.2800106321915596,\n",
       "  0.1750047135839967,\n",
       "  0.2751139441826541,\n",
       "  0.21006071817363003,\n",
       "  0.7445781797853543,\n",
       "  0.7480058559706215,\n",
       "  0.8036262288858256,\n",
       "  0.4339044561523673,\n",
       "  0.7128651448316625,\n",
       "  0.555274185000532,\n",
       "  0.7992978735399062,\n",
       "  0.38449261227101184,\n",
       "  0.6079613009728965,\n",
       "  0.4995214714344902,\n",
       "  0.3157749345368742,\n",
       "  0.6277744089424393,\n",
       "  0.35823404868253056,\n",
       "  0.6583696006531174,\n",
       "  0.5105430573365192,\n",
       "  0.6872096949726901,\n",
       "  0.6398054725902602,\n",
       "  0.4303616789844248,\n",
       "  0.607088669989571,\n",
       "  0.3969179136118408,\n",
       "  0.8053454022477989,\n",
       "  0.5462943130208376,\n",
       "  0.7036103840604475,\n",
       "  0.544409860295194,\n",
       "  0.5718697362313492,\n",
       "  0.6630719986610148,\n",
       "  0.6768829409820292,\n",
       "  0.8409314745048242,\n",
       "  0.6946403226130751,\n",
       "  0.4352769037452374,\n",
       "  0.3815081080107249,\n",
       "  0.364378889249931,\n",
       "  0.4631908345155461,\n",
       "  0.7516344268722781,\n",
       "  0.6227974905213362,\n",
       "  0.7561006020713535,\n",
       "  0.7676454482074468,\n",
       "  0.4812431951522048,\n",
       "  0.5484276905363299,\n",
       "  0.477746166066116,\n",
       "  0.4732068366511031,\n",
       "  0.6811345686018838,\n",
       "  0.4534452714489452,\n",
       "  0.367283387342351,\n",
       "  0.5409920881176461,\n",
       "  0.551000967808398,\n",
       "  0.5812604356383113,\n",
       "  0.5665997589336123,\n",
       "  0.39455994001573624,\n",
       "  0.5358577434880548,\n",
       "  1.0398283712560246,\n",
       "  0.7783870315574797,\n",
       "  0.9827356691233335,\n",
       "  0.8599340023835698,\n",
       "  0.9670141577580325,\n",
       "  1.0922445514874632,\n",
       "  0.6131925189332721,\n",
       "  0.9759086280944629,\n",
       "  0.8684694991647286,\n",
       "  1.0921799993806798,\n",
       "  0.9002677955398595,\n",
       "  0.8417851339321119,\n",
       "  0.9290338564524834,\n",
       "  0.7644206357019938,\n",
       "  0.8798906197111482,\n",
       "  0.9595393369865202,\n",
       "  0.8798503193743965,\n",
       "  1.2003382231294082,\n",
       "  1.1205146910605663,\n",
       "  0.6607572753410138,\n",
       "  0.99618053638897,\n",
       "  0.7789779145924702,\n",
       "  1.0757730023835852,\n",
       "  0.7885438822003302,\n",
       "  0.9796484171145821,\n",
       "  0.9652759255078068,\n",
       "  0.7854138749419175,\n",
       "  0.8016495242102384,\n",
       "  0.9072483244008362,\n",
       "  0.869649875143307,\n",
       "  0.951370035201125,\n",
       "  1.163835716533133,\n",
       "  0.9223268402876976,\n",
       "  0.7614835206627089,\n",
       "  0.7500216121609795,\n",
       "  1.079378116306371,\n",
       "  1.0134321107035975,\n",
       "  0.8786543019366233,\n",
       "  0.7837064139822761,\n",
       "  0.925124147071213,\n",
       "  0.9848968721432079,\n",
       "  0.9472888951937494,\n",
       "  0.7783870315574797,\n",
       "  1.0306523909160885,\n",
       "  1.048371450161412,\n",
       "  0.9392021372776248,\n",
       "  0.7951106786468475,\n",
       "  0.8847139447925447,\n",
       "  0.9740378578942339,\n",
       "  0.7991341969295647]}"
      ]
     },
     "execution_count": 32,
     "metadata": {},
     "output_type": "execute_result"
    }
   ],
   "source": [
    "result"
   ]
  },
  {
   "cell_type": "markdown",
   "metadata": {},
   "source": [
    "# Make classification"
   ]
  },
  {
   "cell_type": "code",
   "execution_count": 33,
   "metadata": {},
   "outputs": [],
   "source": [
    "from sklearn.metrics import accuracy_score"
   ]
  },
  {
   "cell_type": "code",
   "execution_count": 109,
   "metadata": {},
   "outputs": [],
   "source": [
    "theta1 = 0.38\n",
    "theta2 = 0.72"
   ]
  },
  {
   "cell_type": "code",
   "execution_count": 110,
   "metadata": {},
   "outputs": [],
   "source": [
    "def classify(theta1, theta2):\n",
    "    def _classify(x):\n",
    "        if x < theta1:\n",
    "            return 0\n",
    "        elif theta1 <= x < theta2:\n",
    "            return 1\n",
    "        else:\n",
    "            return 2\n",
    "    return _classify"
   ]
  },
  {
   "cell_type": "code",
   "execution_count": 111,
   "metadata": {},
   "outputs": [],
   "source": [
    "classify_func = classify(theta1, theta2)\n",
    "y_pred = list(eval('map(lambda x: classify_func(x), result[species[0]]'))"
   ]
  },
  {
   "cell_type": "code",
   "execution_count": 112,
   "metadata": {},
   "outputs": [
    {
     "name": "stdout",
     "output_type": "stream",
     "text": [
      "Accuracy: 0.89333\n"
     ]
    }
   ],
   "source": [
    "accuracy = accuracy_score(y_pred, df_y.values)\n",
    "print(f'Accuracy: {accuracy:.5f}')"
   ]
  },
  {
   "cell_type": "code",
   "execution_count": null,
   "metadata": {},
   "outputs": [],
   "source": []
  }
 ],
 "metadata": {
  "kernelspec": {
   "display_name": "Python 3",
   "language": "python",
   "name": "python3"
  },
  "language_info": {
   "codemirror_mode": {
    "name": "ipython",
    "version": 3
   },
   "file_extension": ".py",
   "mimetype": "text/x-python",
   "name": "python",
   "nbconvert_exporter": "python",
   "pygments_lexer": "ipython3",
   "version": "3.9.5"
  }
 },
 "nbformat": 4,
 "nbformat_minor": 5
}
