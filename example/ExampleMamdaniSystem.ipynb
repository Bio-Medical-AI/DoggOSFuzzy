{
 "cells": [
  {
<<<<<<< HEAD
   "cell_type": "code",
   "execution_count": 1,
   "id": "df99fc4b",
   "metadata": {},
   "outputs": [],
   "source": [
    "import os\n",
    "os.chdir('..')"
   ]
  },
  {
=======
>>>>>>> dev
   "cell_type": "markdown",
   "id": "0b5ab05c",
   "metadata": {},
   "source": [
    "# Import necessary modules"
   ]
  },
  {
   "cell_type": "code",
<<<<<<< HEAD
   "execution_count": 2,
   "id": "f43203c3",
=======
   "execution_count": 1,
   "id": "96ca19e7-fc9c-44b9-8bcc-94b61d02cd73",
>>>>>>> dev
   "metadata": {},
   "outputs": [],
   "source": [
    "import pandas as pd"
   ]
  },
  {
   "cell_type": "markdown",
   "id": "04ad2a10",
   "metadata": {},
   "source": [
    "# Read dataset"
   ]
  },
  {
   "cell_type": "code",
<<<<<<< HEAD
   "execution_count": 3,
   "id": "cd23be39",
=======
   "execution_count": 2,
   "id": "a3aa4a65-afa2-4bd7-829d-06b45c30fac4",
>>>>>>> dev
   "metadata": {},
   "outputs": [],
   "source": [
    "from sklearn.preprocessing import MinMaxScaler"
   ]
  },
  {
   "cell_type": "code",
<<<<<<< HEAD
   "execution_count": 4,
   "id": "d0277dba",
=======
   "execution_count": 3,
   "id": "8a12b169-96fe-4d1e-bb6b-4fc466498d2a",
>>>>>>> dev
   "metadata": {},
   "outputs": [],
   "source": [
    "species_map = {'Iris-setosa': 0, 'Iris-versicolor': 1, 'Iris-virginica': 2}"
   ]
  },
  {
   "cell_type": "code",
<<<<<<< HEAD
   "execution_count": 5,
   "id": "5dd2f6aa",
=======
   "execution_count": 4,
   "id": "8c9a8c93-20d6-46da-aa86-85d75e7dc9ff",
>>>>>>> dev
   "metadata": {},
   "outputs": [],
   "source": [
    "df = pd.read_csv('data.csv')"
   ]
  },
  {
   "cell_type": "code",
<<<<<<< HEAD
   "execution_count": 6,
   "id": "4b24a872",
=======
   "execution_count": 5,
   "id": "e35a2500-9ed0-4582-ae6e-81546a6677d3",
>>>>>>> dev
   "metadata": {},
   "outputs": [],
   "source": [
    "df_X = df.drop(columns='species')\n",
    "df_y = df['species'].map(species_map)"
   ]
  },
  {
   "cell_type": "code",
<<<<<<< HEAD
   "execution_count": 7,
   "id": "4154e3dd",
=======
   "execution_count": 6,
   "id": "53e97506-b355-45c8-ba7f-e5d2fcb4431d",
>>>>>>> dev
   "metadata": {},
   "outputs": [
    {
     "data": {
      "text/plain": "     sepal-length  sepal-width  petal-length  petal-width\n0             5.1          3.5           1.4          0.2\n1             4.9          3.0           1.4          0.2\n2             4.7          3.2           1.3          0.2\n3             4.6          3.1           1.5          0.2\n4             5.0          3.6           1.4          0.2\n..            ...          ...           ...          ...\n145           6.7          3.0           5.2          2.3\n146           6.3          2.5           5.0          1.9\n147           6.5          3.0           5.2          2.0\n148           6.2          3.4           5.4          2.3\n149           5.9          3.0           5.1          1.8\n\n[150 rows x 4 columns]",
      "text/html": "<div>\n<style scoped>\n    .dataframe tbody tr th:only-of-type {\n        vertical-align: middle;\n    }\n\n    .dataframe tbody tr th {\n        vertical-align: top;\n    }\n\n    .dataframe thead th {\n        text-align: right;\n    }\n</style>\n<table border=\"1\" class=\"dataframe\">\n  <thead>\n    <tr style=\"text-align: right;\">\n      <th></th>\n      <th>sepal-length</th>\n      <th>sepal-width</th>\n      <th>petal-length</th>\n      <th>petal-width</th>\n    </tr>\n  </thead>\n  <tbody>\n    <tr>\n      <th>0</th>\n      <td>5.1</td>\n      <td>3.5</td>\n      <td>1.4</td>\n      <td>0.2</td>\n    </tr>\n    <tr>\n      <th>1</th>\n      <td>4.9</td>\n      <td>3.0</td>\n      <td>1.4</td>\n      <td>0.2</td>\n    </tr>\n    <tr>\n      <th>2</th>\n      <td>4.7</td>\n      <td>3.2</td>\n      <td>1.3</td>\n      <td>0.2</td>\n    </tr>\n    <tr>\n      <th>3</th>\n      <td>4.6</td>\n      <td>3.1</td>\n      <td>1.5</td>\n      <td>0.2</td>\n    </tr>\n    <tr>\n      <th>4</th>\n      <td>5.0</td>\n      <td>3.6</td>\n      <td>1.4</td>\n      <td>0.2</td>\n    </tr>\n    <tr>\n      <th>...</th>\n      <td>...</td>\n      <td>...</td>\n      <td>...</td>\n      <td>...</td>\n    </tr>\n    <tr>\n      <th>145</th>\n      <td>6.7</td>\n      <td>3.0</td>\n      <td>5.2</td>\n      <td>2.3</td>\n    </tr>\n    <tr>\n      <th>146</th>\n      <td>6.3</td>\n      <td>2.5</td>\n      <td>5.0</td>\n      <td>1.9</td>\n    </tr>\n    <tr>\n      <th>147</th>\n      <td>6.5</td>\n      <td>3.0</td>\n      <td>5.2</td>\n      <td>2.0</td>\n    </tr>\n    <tr>\n      <th>148</th>\n      <td>6.2</td>\n      <td>3.4</td>\n      <td>5.4</td>\n      <td>2.3</td>\n    </tr>\n    <tr>\n      <th>149</th>\n      <td>5.9</td>\n      <td>3.0</td>\n      <td>5.1</td>\n      <td>1.8</td>\n    </tr>\n  </tbody>\n</table>\n<p>150 rows × 4 columns</p>\n</div>"
     },
     "execution_count": 6,
     "metadata": {},
     "output_type": "execute_result"
    }
   ],
   "source": [
    "df_X"
   ]
  },
  {
   "cell_type": "code",
<<<<<<< HEAD
   "execution_count": 8,
   "id": "56917605",
=======
   "execution_count": 7,
   "id": "064bb49e-e400-4b2e-8011-7491c7a5f9d0",
>>>>>>> dev
   "metadata": {},
   "outputs": [
    {
     "data": {
      "text/plain": "0      0\n1      0\n2      0\n3      0\n4      0\n      ..\n145    2\n146    2\n147    2\n148    2\n149    2\nName: species, Length: 150, dtype: int64"
     },
     "execution_count": 7,
     "metadata": {},
     "output_type": "execute_result"
    }
   ],
   "source": [
    "df_y"
   ]
  },
  {
   "cell_type": "code",
<<<<<<< HEAD
   "execution_count": 9,
   "id": "63d48f3c",
=======
   "execution_count": 8,
   "id": "d841c337-ea63-49d4-afb4-9e3e99a7cd81",
>>>>>>> dev
   "metadata": {},
   "outputs": [],
   "source": [
    "x = df_X.values \n",
    "min_max_scaler = MinMaxScaler()\n",
    "x_scaled = min_max_scaler.fit_transform(x)\n",
    "df_X = pd.DataFrame(x_scaled, columns=df_X.columns)"
   ]
  },
  {
   "cell_type": "code",
<<<<<<< HEAD
   "execution_count": 10,
   "id": "40b32acb",
=======
   "execution_count": 9,
   "id": "cc232ded-5d24-4274-af1b-5f683090630f",
>>>>>>> dev
   "metadata": {},
   "outputs": [
    {
     "data": {
      "text/plain": "     sepal-length  sepal-width  petal-length  petal-width\n0        0.222222     0.625000      0.067797     0.041667\n1        0.166667     0.416667      0.067797     0.041667\n2        0.111111     0.500000      0.050847     0.041667\n3        0.083333     0.458333      0.084746     0.041667\n4        0.194444     0.666667      0.067797     0.041667\n..            ...          ...           ...          ...\n145      0.666667     0.416667      0.711864     0.916667\n146      0.555556     0.208333      0.677966     0.750000\n147      0.611111     0.416667      0.711864     0.791667\n148      0.527778     0.583333      0.745763     0.916667\n149      0.444444     0.416667      0.694915     0.708333\n\n[150 rows x 4 columns]",
      "text/html": "<div>\n<style scoped>\n    .dataframe tbody tr th:only-of-type {\n        vertical-align: middle;\n    }\n\n    .dataframe tbody tr th {\n        vertical-align: top;\n    }\n\n    .dataframe thead th {\n        text-align: right;\n    }\n</style>\n<table border=\"1\" class=\"dataframe\">\n  <thead>\n    <tr style=\"text-align: right;\">\n      <th></th>\n      <th>sepal-length</th>\n      <th>sepal-width</th>\n      <th>petal-length</th>\n      <th>petal-width</th>\n    </tr>\n  </thead>\n  <tbody>\n    <tr>\n      <th>0</th>\n      <td>0.222222</td>\n      <td>0.625000</td>\n      <td>0.067797</td>\n      <td>0.041667</td>\n    </tr>\n    <tr>\n      <th>1</th>\n      <td>0.166667</td>\n      <td>0.416667</td>\n      <td>0.067797</td>\n      <td>0.041667</td>\n    </tr>\n    <tr>\n      <th>2</th>\n      <td>0.111111</td>\n      <td>0.500000</td>\n      <td>0.050847</td>\n      <td>0.041667</td>\n    </tr>\n    <tr>\n      <th>3</th>\n      <td>0.083333</td>\n      <td>0.458333</td>\n      <td>0.084746</td>\n      <td>0.041667</td>\n    </tr>\n    <tr>\n      <th>4</th>\n      <td>0.194444</td>\n      <td>0.666667</td>\n      <td>0.067797</td>\n      <td>0.041667</td>\n    </tr>\n    <tr>\n      <th>...</th>\n      <td>...</td>\n      <td>...</td>\n      <td>...</td>\n      <td>...</td>\n    </tr>\n    <tr>\n      <th>145</th>\n      <td>0.666667</td>\n      <td>0.416667</td>\n      <td>0.711864</td>\n      <td>0.916667</td>\n    </tr>\n    <tr>\n      <th>146</th>\n      <td>0.555556</td>\n      <td>0.208333</td>\n      <td>0.677966</td>\n      <td>0.750000</td>\n    </tr>\n    <tr>\n      <th>147</th>\n      <td>0.611111</td>\n      <td>0.416667</td>\n      <td>0.711864</td>\n      <td>0.791667</td>\n    </tr>\n    <tr>\n      <th>148</th>\n      <td>0.527778</td>\n      <td>0.583333</td>\n      <td>0.745763</td>\n      <td>0.916667</td>\n    </tr>\n    <tr>\n      <th>149</th>\n      <td>0.444444</td>\n      <td>0.416667</td>\n      <td>0.694915</td>\n      <td>0.708333</td>\n    </tr>\n  </tbody>\n</table>\n<p>150 rows × 4 columns</p>\n</div>"
     },
     "execution_count": 9,
     "metadata": {},
     "output_type": "execute_result"
    }
   ],
   "source": [
    "df_X"
   ]
  },
  {
   "cell_type": "markdown",
   "id": "4f304035",
   "metadata": {},
   "source": [
    "# Create linguistic variables"
   ]
  },
  {
   "cell_type": "code",
<<<<<<< HEAD
   "execution_count": 11,
   "id": "7c460601",
   "metadata": {},
=======
   "execution_count": 10,
   "id": "154401b5-421c-4b23-b2da-db098a4b315f",
   "metadata": {
    "pycharm": {
     "name": "#%%\n"
    }
   },
>>>>>>> dev
   "outputs": [],
   "source": [
    "from doggos.knowledge import LinguisticVariable, Domain"
   ]
  },
  {
   "cell_type": "code",
<<<<<<< HEAD
   "execution_count": 12,
   "id": "ba6fa6b9",
=======
   "execution_count": 11,
   "id": "d09d5f2b-d495-4958-844c-8705feabb5c4",
>>>>>>> dev
   "metadata": {},
   "outputs": [],
   "source": [
    "# features linguistic variables\n",
    "sepal_length = LinguisticVariable('sepal-length', Domain(0, 1.001, 0.001))\n",
    "sepal_width = LinguisticVariable('sepal-width', Domain(0, 1.001, 0.001))\n",
    "petal_length = LinguisticVariable('petal-length', Domain(0, 1.001, 0.001))\n",
    "petal_width = LinguisticVariable('petal-width', Domain(0, 1.001, 0.001))"
   ]
  },
  {
   "cell_type": "code",
<<<<<<< HEAD
   "execution_count": 13,
   "id": "c9971829",
=======
   "execution_count": 12,
   "id": "b598fc02-0e75-4ec5-bd54-249225e9709b",
>>>>>>> dev
   "metadata": {},
   "outputs": [],
   "source": [
    "# decision linguistic variable\n",
    "species = LinguisticVariable('species', Domain(0, 1, 0.0001))"
   ]
  },
  {
   "cell_type": "markdown",
   "id": "20417651",
   "metadata": {},
   "source": [
    "# Define clauses"
   ]
  },
  {
   "cell_type": "code",
<<<<<<< HEAD
   "execution_count": 14,
   "id": "58120b44",
=======
   "execution_count": 13,
   "id": "5c0a3dba-9dc5-441f-accd-3f26cede0490",
>>>>>>> dev
   "metadata": {},
   "outputs": [],
   "source": [
    "from doggos.knowledge import Clause\n",
<<<<<<< HEAD
    "from doggos.fuzzy_sets import IntervalType2FuzzySet, Type1FuzzySet\n",
    "from doggos.utils.membership_functions import triangular, trapezoidal, gaussian"
=======
    "from doggos.fuzzy_sets import IntervalType2FuzzySet\n",
    "from doggos.utils.membership_functions import triangular, gaussian"
>>>>>>> dev
   ]
  },
  {
   "cell_type": "code",
<<<<<<< HEAD
   "execution_count": 15,
   "id": "50639da9",
=======
   "execution_count": 14,
   "id": "d6a5fdaa-f394-410a-aea2-74378c04b592",
>>>>>>> dev
   "metadata": {},
   "outputs": [],
   "source": [
    "clauses = [\n",
    "    # clauses for petal length\n",
    "    Clause(petal_length, 'small', IntervalType2FuzzySet(triangular(0, 0.25, 0.5, 0.8), triangular(0, 0.25, 0.5))),\n",
    "    Clause(petal_length, 'medium', IntervalType2FuzzySet(triangular(0.25, 0.5, 0.75, 0.8), triangular(0.25, 0.5, 0.75))),\n",
    "    Clause(petal_length, 'big', IntervalType2FuzzySet(triangular(0.5, 0.75, 1, 0.8), triangular(0.5, 0.75, 1, 1))),\n",
    "    # clauses for petal width\n",
    "    Clause(petal_width, 'small', IntervalType2FuzzySet(gaussian(0.25, 0.1, 0.8), gaussian(0.25, 0.1))),\n",
    "    Clause(petal_width, 'medium', IntervalType2FuzzySet(gaussian(0.5, 0.1, 0.8), gaussian(0.5, 0.1))),\n",
    "    Clause(petal_width, 'big', IntervalType2FuzzySet(gaussian(0.75, 0.1, 0.8), gaussian(0.75, 0.1))),\n",
    "    # claueses for sepal length\n",
    "    Clause(sepal_length, 'small', IntervalType2FuzzySet(triangular(0, 0.25, 0.5, 0.8), triangular(0, 0.25, 0.5))),\n",
    "    Clause(sepal_length, 'medium', IntervalType2FuzzySet(triangular(0.25, 0.5, 0.75, 0.8), triangular(0.25, 0.5, 0.75))),\n",
    "    Clause(sepal_length, 'big', IntervalType2FuzzySet(triangular(0.5, 0.75, 1, 0.8), triangular(0.5, 0.75, 1))),\n",
    "    # clauses for sepal width\n",
    "    Clause(sepal_width, 'small', IntervalType2FuzzySet(gaussian(0.25, 0.1, 0.8), gaussian(0.25, 0.1))),\n",
    "    Clause(sepal_width, 'medium', IntervalType2FuzzySet(gaussian(0.5, 0.1, 0.8), gaussian(0.5, 0.1))),\n",
    "    Clause(sepal_width, 'big', IntervalType2FuzzySet(gaussian(0.75, 0.1, 0.8), gaussian(0.75, 0.1)))\n",
    "]\n",
    "\n",
    "# clauses = [\n",
    "#     # clauses for petal length\n",
    "#     Clause(petal_length, 'small', Type1FuzzySet(triangular(0, 0.25, 0.5))),\n",
    "#     Clause(petal_length, 'medium', Type1FuzzySet(triangular(0.25, 0.5, 0.75))),\n",
    "#     Clause(petal_length, 'big', Type1FuzzySet(triangular(0.5, 0.75, 1))),\n",
    "#     # clauses for petal width\n",
    "#     Clause(petal_width, 'small', Type1FuzzySet(gaussian(0.25, 0.1))),\n",
    "#     Clause(petal_width, 'medium', Type1FuzzySet(gaussian(0.5, 0.1))),\n",
    "#     Clause(petal_width, 'big', Type1FuzzySet(gaussian(0.75, 0.1))),\n",
    "#     # claueses for sepal length\n",
    "#     Clause(sepal_length, 'small', Type1FuzzySet(triangular(0, 0.25, 0.5))),\n",
    "#     Clause(sepal_length, 'medium', Type1FuzzySet(triangular(0.25, 0.5, 0.75))),\n",
    "#     Clause(sepal_length, 'big', Type1FuzzySet(triangular(0.5, 0.75, 1))),\n",
    "#     # clauses for sepal width\n",
    "#     Clause(sepal_width, 'small', Type1FuzzySet(gaussian(0.25, 0.1))),\n",
    "#     Clause(sepal_width, 'medium', Type1FuzzySet(gaussian(0.5, 0.1))),\n",
    "#     Clause(sepal_width, 'big', Type1FuzzySet(gaussian(0.75, 0.1)))\n",
    "# ]"
   ]
  },
  {
   "cell_type": "code",
<<<<<<< HEAD
   "execution_count": 16,
   "id": "7e253fa4",
=======
   "execution_count": 15,
   "id": "4ce848ba-609a-4287-9d87-9e1ab5070a28",
>>>>>>> dev
   "metadata": {},
   "outputs": [
    {
     "name": "stdout",
     "output_type": "stream",
     "text": [
      "Clause petal-length is small\n",
      "Clause petal-length is medium\n",
      "Clause petal-length is big\n",
      "Clause petal-width is small\n",
      "Clause petal-width is medium\n",
      "Clause petal-width is big\n",
      "Clause sepal-length is small\n",
      "Clause sepal-length is medium\n",
      "Clause sepal-length is big\n",
      "Clause sepal-width is small\n",
      "Clause sepal-width is medium\n",
      "Clause sepal-width is big\n"
     ]
    }
   ],
   "source": [
    "for clause in clauses:\n",
    "    print(clause)"
   ]
  },
  {
   "cell_type": "code",
<<<<<<< HEAD
   "execution_count": 17,
   "id": "dc1df6b5",
=======
   "execution_count": 16,
   "id": "40190e03-b6dd-4320-b08a-8e8ad51c58e4",
>>>>>>> dev
   "metadata": {},
   "outputs": [],
   "source": [
    "# decision clause"
   ]
  },
  {
   "cell_type": "code",
<<<<<<< HEAD
   "execution_count": 18,
   "id": "a24f94d8",
=======
   "execution_count": 17,
   "id": "c1e44d35-f631-4aea-b0d7-b221f2cca1f3",
>>>>>>> dev
   "metadata": {},
   "outputs": [],
   "source": [
    "decision_clauses = [\n",
    "    Clause(species, 'zero', IntervalType2FuzzySet(gaussian(0.25, 0.1, 0.8), gaussian(0.25, 0.1))),\n",
    "    Clause(species, 'one', IntervalType2FuzzySet(gaussian(0.5, 0.1, 0.8), gaussian(0.5, 0.1))),\n",
    "    Clause(species, 'two', IntervalType2FuzzySet(gaussian(0.75, 0.1, 0.8), gaussian(0.75, 0.1)))\n",
    "]\n",
    "\n",
    "# decision_clauses = [\n",
    "#     Clause(species, 'zero', Type1FuzzySet(gaussian(0.25, 0.1))),\n",
    "#     Clause(species, 'one', Type1FuzzySet(gaussian(0.5, 0.1))),\n",
    "#     Clause(species, 'two', Type1FuzzySet(gaussian(0.75, 0.1)))\n",
    "# ]"
   ]
  },
  {
   "cell_type": "markdown",
   "id": "9b3a7ac4",
   "metadata": {},
   "source": [
    "# Define consequents"
   ]
  },
  {
   "cell_type": "code",
<<<<<<< HEAD
   "execution_count": 19,
   "id": "5aea9a97",
=======
   "execution_count": 18,
   "id": "4ee052e8-4d8f-4c38-a810-19354db73657",
>>>>>>> dev
   "metadata": {},
   "outputs": [],
   "source": [
    "from doggos.knowledge.consequents import MamdaniConsequent"
   ]
  },
  {
   "cell_type": "code",
<<<<<<< HEAD
   "execution_count": 20,
   "id": "d6140c0f",
=======
   "execution_count": 19,
   "id": "c431c473-534f-49c1-accb-14da7e70a3b9",
>>>>>>> dev
   "metadata": {},
   "outputs": [],
   "source": [
    "species_zero = MamdaniConsequent(decision_clauses[0])\n",
    "species_one = MamdaniConsequent(decision_clauses[1])\n",
    "species_two = MamdaniConsequent(decision_clauses[2])"
   ]
  },
  {
   "cell_type": "markdown",
   "id": "66e36f2b",
   "metadata": {},
   "source": [
    "# Define terms"
   ]
  },
  {
   "cell_type": "code",
<<<<<<< HEAD
   "execution_count": 21,
   "id": "fec6b70a",
=======
   "execution_count": 20,
   "id": "29138d51-4ed5-47b7-9031-c5bf26870c18",
>>>>>>> dev
   "metadata": {},
   "outputs": [],
   "source": [
    "from doggos.knowledge import Term\n",
    "from doggos.algebras import GodelAlgebra"
   ]
  },
  {
   "cell_type": "code",
<<<<<<< HEAD
   "execution_count": 22,
   "id": "4ed67e63",
=======
   "execution_count": 21,
   "id": "abab0cd9-f5d1-4ef8-8596-144ed43f1796",
>>>>>>> dev
   "metadata": {},
   "outputs": [],
   "source": [
    "terms = list()\n",
    "algebra = GodelAlgebra()\n",
    "for clause in clauses:\n",
    "    terms.append(Term(algebra, clause))"
   ]
  },
  {
   "cell_type": "markdown",
   "id": "ea465843",
   "metadata": {},
   "source": [
    "# Define antecedents"
   ]
  },
  {
   "cell_type": "code",
<<<<<<< HEAD
   "execution_count": 23,
   "id": "e0e70061",
=======
   "execution_count": 22,
   "id": "cb1a81c1-a19a-488a-ba85-359df8da74cd",
>>>>>>> dev
   "metadata": {},
   "outputs": [],
   "source": [
    "# define random antecedents\n",
    "# petal_length_small & petal_width_small\n",
    "antecedent1 = terms[0] & terms[3]\n",
    "# petal_width_small & sepal_length_big\n",
    "antecedent2 = terms[3] & terms[8]\n",
    "# sepal_width_medium | sepal-length_big | petal_width_big\n",
    "antecedent3 = terms[10] | terms[8] | terms[5]"
   ]
  },
  {
   "cell_type": "markdown",
   "id": "e69c9792",
   "metadata": {},
   "source": [
    "# Create rules"
   ]
  },
  {
   "cell_type": "code",
<<<<<<< HEAD
   "execution_count": 24,
   "id": "cfb9e8e1",
=======
   "execution_count": 23,
   "id": "1c563677-43b2-45e8-99a4-6ed5afeb7954",
>>>>>>> dev
   "metadata": {},
   "outputs": [],
   "source": [
    "from doggos.knowledge import Rule"
   ]
  },
  {
   "cell_type": "code",
<<<<<<< HEAD
   "execution_count": 25,
   "id": "201dc72f",
=======
   "execution_count": 24,
   "id": "1c0ac721-593e-40b8-a708-d697e2a22429",
>>>>>>> dev
   "metadata": {},
   "outputs": [],
   "source": [
    "rules = [\n",
    "    Rule(antecedent1, species_zero),\n",
    "    Rule(antecedent2, species_one),\n",
    "    Rule(antecedent3, species_two)\n",
    "]"
   ]
  },
  {
   "cell_type": "markdown",
   "id": "0b71c166",
   "metadata": {},
   "source": [
    "# Fuzzify dataset"
   ]
  },
  {
   "cell_type": "code",
<<<<<<< HEAD
   "execution_count": 26,
   "id": "095c69ec",
=======
   "execution_count": 25,
   "id": "92472731-2ced-4d6b-94b2-5fe882034469",
>>>>>>> dev
   "metadata": {},
   "outputs": [],
   "source": [
    "from doggos.knowledge import fuzzify"
   ]
  },
  {
   "cell_type": "code",
<<<<<<< HEAD
   "execution_count": 27,
   "id": "8e8a48f0",
=======
   "execution_count": 26,
   "id": "d98b6ce6-4399-4bda-bf86-9b90f1a71853",
>>>>>>> dev
   "metadata": {},
   "outputs": [
    {
     "data": {
      "text/plain": [
       "array([[0.22222222, 0.625     , 0.06779661, 0.04166667],\n",
       "       [0.16666667, 0.41666667, 0.06779661, 0.04166667],\n",
       "       [0.11111111, 0.5       , 0.05084746, 0.04166667],\n",
       "       [0.08333333, 0.45833333, 0.08474576, 0.04166667],\n",
       "       [0.19444444, 0.66666667, 0.06779661, 0.04166667],\n",
       "       [0.30555556, 0.79166667, 0.11864407, 0.125     ],\n",
       "       [0.08333333, 0.58333333, 0.06779661, 0.08333333],\n",
       "       [0.19444444, 0.58333333, 0.08474576, 0.04166667],\n",
       "       [0.02777778, 0.375     , 0.06779661, 0.04166667],\n",
       "       [0.16666667, 0.45833333, 0.08474576, 0.        ],\n",
       "       [0.30555556, 0.70833333, 0.08474576, 0.04166667],\n",
       "       [0.13888889, 0.58333333, 0.10169492, 0.04166667],\n",
       "       [0.13888889, 0.41666667, 0.06779661, 0.        ],\n",
       "       [0.        , 0.41666667, 0.01694915, 0.        ],\n",
       "       [0.41666667, 0.83333333, 0.03389831, 0.04166667],\n",
       "       [0.38888889, 1.        , 0.08474576, 0.125     ],\n",
       "       [0.30555556, 0.79166667, 0.05084746, 0.125     ],\n",
       "       [0.22222222, 0.625     , 0.06779661, 0.08333333],\n",
       "       [0.38888889, 0.75      , 0.11864407, 0.08333333],\n",
       "       [0.22222222, 0.75      , 0.08474576, 0.08333333],\n",
       "       [0.30555556, 0.58333333, 0.11864407, 0.04166667],\n",
       "       [0.22222222, 0.70833333, 0.08474576, 0.125     ],\n",
       "       [0.08333333, 0.66666667, 0.        , 0.04166667],\n",
       "       [0.22222222, 0.54166667, 0.11864407, 0.16666667],\n",
       "       [0.13888889, 0.58333333, 0.15254237, 0.04166667],\n",
       "       [0.19444444, 0.41666667, 0.10169492, 0.04166667],\n",
       "       [0.19444444, 0.58333333, 0.10169492, 0.125     ],\n",
       "       [0.25      , 0.625     , 0.08474576, 0.04166667],\n",
       "       [0.25      , 0.58333333, 0.06779661, 0.04166667],\n",
       "       [0.11111111, 0.5       , 0.10169492, 0.04166667],\n",
       "       [0.13888889, 0.45833333, 0.10169492, 0.04166667],\n",
       "       [0.30555556, 0.58333333, 0.08474576, 0.125     ],\n",
       "       [0.25      , 0.875     , 0.08474576, 0.        ],\n",
       "       [0.33333333, 0.91666667, 0.06779661, 0.04166667],\n",
       "       [0.16666667, 0.45833333, 0.08474576, 0.        ],\n",
       "       [0.19444444, 0.5       , 0.03389831, 0.04166667],\n",
       "       [0.33333333, 0.625     , 0.05084746, 0.04166667],\n",
       "       [0.16666667, 0.45833333, 0.08474576, 0.        ],\n",
       "       [0.02777778, 0.41666667, 0.05084746, 0.04166667],\n",
       "       [0.22222222, 0.58333333, 0.08474576, 0.04166667],\n",
       "       [0.19444444, 0.625     , 0.05084746, 0.08333333],\n",
       "       [0.05555556, 0.125     , 0.05084746, 0.08333333],\n",
       "       [0.02777778, 0.5       , 0.05084746, 0.04166667],\n",
       "       [0.19444444, 0.625     , 0.10169492, 0.20833333],\n",
       "       [0.22222222, 0.75      , 0.15254237, 0.125     ],\n",
       "       [0.13888889, 0.41666667, 0.06779661, 0.08333333],\n",
       "       [0.22222222, 0.75      , 0.10169492, 0.04166667],\n",
       "       [0.08333333, 0.5       , 0.06779661, 0.04166667],\n",
       "       [0.27777778, 0.70833333, 0.08474576, 0.04166667],\n",
       "       [0.19444444, 0.54166667, 0.06779661, 0.04166667],\n",
       "       [0.75      , 0.5       , 0.62711864, 0.54166667],\n",
       "       [0.58333333, 0.5       , 0.59322034, 0.58333333],\n",
       "       [0.72222222, 0.45833333, 0.66101695, 0.58333333],\n",
       "       [0.33333333, 0.125     , 0.50847458, 0.5       ],\n",
       "       [0.61111111, 0.33333333, 0.61016949, 0.58333333],\n",
       "       [0.38888889, 0.33333333, 0.59322034, 0.5       ],\n",
       "       [0.55555556, 0.54166667, 0.62711864, 0.625     ],\n",
       "       [0.16666667, 0.16666667, 0.38983051, 0.375     ],\n",
       "       [0.63888889, 0.375     , 0.61016949, 0.5       ],\n",
       "       [0.25      , 0.29166667, 0.49152542, 0.54166667],\n",
       "       [0.19444444, 0.        , 0.42372881, 0.375     ],\n",
       "       [0.44444444, 0.41666667, 0.54237288, 0.58333333],\n",
       "       [0.47222222, 0.08333333, 0.50847458, 0.375     ],\n",
       "       [0.5       , 0.375     , 0.62711864, 0.54166667],\n",
       "       [0.36111111, 0.375     , 0.44067797, 0.5       ],\n",
       "       [0.66666667, 0.45833333, 0.57627119, 0.54166667],\n",
       "       [0.36111111, 0.41666667, 0.59322034, 0.58333333],\n",
       "       [0.41666667, 0.29166667, 0.52542373, 0.375     ],\n",
       "       [0.52777778, 0.08333333, 0.59322034, 0.58333333],\n",
       "       [0.36111111, 0.20833333, 0.49152542, 0.41666667],\n",
       "       [0.44444444, 0.5       , 0.6440678 , 0.70833333],\n",
       "       [0.5       , 0.33333333, 0.50847458, 0.5       ],\n",
       "       [0.55555556, 0.20833333, 0.66101695, 0.58333333],\n",
       "       [0.5       , 0.33333333, 0.62711864, 0.45833333],\n",
       "       [0.58333333, 0.375     , 0.55932203, 0.5       ],\n",
       "       [0.63888889, 0.41666667, 0.57627119, 0.54166667],\n",
       "       [0.69444444, 0.33333333, 0.6440678 , 0.54166667],\n",
       "       [0.66666667, 0.41666667, 0.6779661 , 0.66666667],\n",
       "       [0.47222222, 0.375     , 0.59322034, 0.58333333],\n",
       "       [0.38888889, 0.25      , 0.42372881, 0.375     ],\n",
       "       [0.33333333, 0.16666667, 0.47457627, 0.41666667],\n",
       "       [0.33333333, 0.16666667, 0.45762712, 0.375     ],\n",
       "       [0.41666667, 0.29166667, 0.49152542, 0.45833333],\n",
       "       [0.47222222, 0.29166667, 0.69491525, 0.625     ],\n",
       "       [0.30555556, 0.41666667, 0.59322034, 0.58333333],\n",
       "       [0.47222222, 0.58333333, 0.59322034, 0.625     ],\n",
       "       [0.66666667, 0.45833333, 0.62711864, 0.58333333],\n",
       "       [0.55555556, 0.125     , 0.57627119, 0.5       ],\n",
       "       [0.36111111, 0.41666667, 0.52542373, 0.5       ],\n",
       "       [0.33333333, 0.20833333, 0.50847458, 0.5       ],\n",
       "       [0.33333333, 0.25      , 0.57627119, 0.45833333],\n",
       "       [0.5       , 0.41666667, 0.61016949, 0.54166667],\n",
       "       [0.41666667, 0.25      , 0.50847458, 0.45833333],\n",
       "       [0.19444444, 0.125     , 0.38983051, 0.375     ],\n",
       "       [0.36111111, 0.29166667, 0.54237288, 0.5       ],\n",
       "       [0.38888889, 0.41666667, 0.54237288, 0.45833333],\n",
       "       [0.38888889, 0.375     , 0.54237288, 0.5       ],\n",
       "       [0.52777778, 0.375     , 0.55932203, 0.5       ],\n",
       "       [0.22222222, 0.20833333, 0.33898305, 0.41666667],\n",
       "       [0.38888889, 0.33333333, 0.52542373, 0.5       ],\n",
       "       [0.55555556, 0.54166667, 0.84745763, 1.        ],\n",
       "       [0.41666667, 0.29166667, 0.69491525, 0.75      ],\n",
       "       [0.77777778, 0.41666667, 0.83050847, 0.83333333],\n",
       "       [0.55555556, 0.375     , 0.77966102, 0.70833333],\n",
       "       [0.61111111, 0.41666667, 0.81355932, 0.875     ],\n",
       "       [0.91666667, 0.41666667, 0.94915254, 0.83333333],\n",
       "       [0.16666667, 0.20833333, 0.59322034, 0.66666667],\n",
       "       [0.83333333, 0.375     , 0.89830508, 0.70833333],\n",
       "       [0.66666667, 0.20833333, 0.81355932, 0.70833333],\n",
       "       [0.80555556, 0.66666667, 0.86440678, 1.        ],\n",
       "       [0.61111111, 0.5       , 0.69491525, 0.79166667],\n",
       "       [0.58333333, 0.29166667, 0.72881356, 0.75      ],\n",
       "       [0.69444444, 0.41666667, 0.76271186, 0.83333333],\n",
       "       [0.38888889, 0.20833333, 0.6779661 , 0.79166667],\n",
       "       [0.41666667, 0.33333333, 0.69491525, 0.95833333],\n",
       "       [0.58333333, 0.5       , 0.72881356, 0.91666667],\n",
       "       [0.61111111, 0.41666667, 0.76271186, 0.70833333],\n",
       "       [0.94444444, 0.75      , 0.96610169, 0.875     ],\n",
       "       [0.94444444, 0.25      , 1.        , 0.91666667],\n",
       "       [0.47222222, 0.08333333, 0.6779661 , 0.58333333],\n",
       "       [0.72222222, 0.5       , 0.79661017, 0.91666667],\n",
       "       [0.36111111, 0.33333333, 0.66101695, 0.79166667],\n",
       "       [0.94444444, 0.33333333, 0.96610169, 0.79166667],\n",
       "       [0.55555556, 0.29166667, 0.66101695, 0.70833333],\n",
       "       [0.66666667, 0.54166667, 0.79661017, 0.83333333],\n",
       "       [0.80555556, 0.5       , 0.84745763, 0.70833333],\n",
       "       [0.52777778, 0.33333333, 0.6440678 , 0.70833333],\n",
       "       [0.5       , 0.41666667, 0.66101695, 0.70833333],\n",
       "       [0.58333333, 0.33333333, 0.77966102, 0.83333333],\n",
       "       [0.80555556, 0.41666667, 0.81355932, 0.625     ],\n",
       "       [0.86111111, 0.33333333, 0.86440678, 0.75      ],\n",
       "       [1.        , 0.75      , 0.91525424, 0.79166667],\n",
       "       [0.58333333, 0.33333333, 0.77966102, 0.875     ],\n",
       "       [0.55555556, 0.33333333, 0.69491525, 0.58333333],\n",
       "       [0.5       , 0.25      , 0.77966102, 0.54166667],\n",
       "       [0.94444444, 0.41666667, 0.86440678, 0.91666667],\n",
       "       [0.55555556, 0.58333333, 0.77966102, 0.95833333],\n",
       "       [0.58333333, 0.45833333, 0.76271186, 0.70833333],\n",
       "       [0.47222222, 0.41666667, 0.6440678 , 0.70833333],\n",
       "       [0.72222222, 0.45833333, 0.74576271, 0.83333333],\n",
       "       [0.66666667, 0.45833333, 0.77966102, 0.95833333],\n",
       "       [0.72222222, 0.45833333, 0.69491525, 0.91666667],\n",
       "       [0.41666667, 0.29166667, 0.69491525, 0.75      ],\n",
       "       [0.69444444, 0.5       , 0.83050847, 0.91666667],\n",
       "       [0.66666667, 0.54166667, 0.79661017, 1.        ],\n",
       "       [0.66666667, 0.41666667, 0.71186441, 0.91666667],\n",
       "       [0.55555556, 0.20833333, 0.6779661 , 0.75      ],\n",
       "       [0.61111111, 0.41666667, 0.71186441, 0.79166667],\n",
       "       [0.52777778, 0.58333333, 0.74576271, 0.91666667],\n",
       "       [0.44444444, 0.41666667, 0.69491525, 0.70833333]])"
      ]
     },
     "execution_count": 27,
     "metadata": {},
     "output_type": "execute_result"
    }
   ],
   "source": [
    "df_X_fuzzified = fuzzify(df_X, clauses)\n",
    "df_X.values"
   ]
  },
  {
   "cell_type": "markdown",
   "id": "75234f14",
   "metadata": {},
   "source": [
    "# Create inference system"
   ]
  },
  {
   "cell_type": "code",
<<<<<<< HEAD
   "execution_count": 28,
   "id": "ea8fbf81",
=======
   "execution_count": 27,
   "id": "c588fe4d-4563-45c2-8b73-3a9e9e68f7b2",
>>>>>>> dev
   "metadata": {},
   "outputs": [],
   "source": [
    "from doggos.inference import MamdaniInferenceSystem\n",
    "from doggos.inference.defuzzification_algorithms import karnik_mendel, center_of_gravity"
   ]
  },
  {
   "cell_type": "code",
<<<<<<< HEAD
   "execution_count": 29,
   "id": "2267c595",
=======
   "execution_count": 28,
   "id": "a9ce8782-090d-46e4-89d3-8106e78b8ed9",
>>>>>>> dev
   "metadata": {},
   "outputs": [],
   "source": [
    "inference_system = MamdaniInferenceSystem(rules)"
   ]
  },
  {
   "cell_type": "code",
<<<<<<< HEAD
   "execution_count": 30,
   "id": "65ecb3a3",
=======
   "execution_count": 29,
   "id": "861c878a-4762-49d4-b273-3622a40d5181",
>>>>>>> dev
   "metadata": {},
   "outputs": [
    {
     "data": {
      "text/plain": [
       "array([0.62545121, 0.64929268, 0.65960396, 0.65818998, 0.57776849,\n",
       "       0.27137084, 0.58746997, 0.64929268, 0.62545121, 0.70821984,\n",
       "       0.49997976, 0.64929268, 0.70363062, 0.70363062, 0.27248018,\n",
       "       0.25328796, 0.2882757 , 0.55620624, 0.33790141, 0.33790141,\n",
       "       0.64929268, 0.39574191, 0.74580583, 0.54449276, 0.64929268,\n",
       "       0.64929268, 0.54370728, 0.62545121, 0.64929268, 0.65960396,\n",
       "       0.65818998, 0.55966755, 0.27588878, 0.25843767, 0.70821984,\n",
       "       0.65960396, 0.62545121, 0.70821984, 0.64929268, 0.64929268,\n",
       "       0.57452201, 0.25684829, 0.65960396, 0.51009318, 0.30926331,\n",
       "       0.58746997, 0.394744  , 0.65960396, 0.49997976, 0.65818998,\n",
       "       0.74197047, 0.74632344, 0.74625493, 0.73129215, 0.74438221,\n",
       "       0.74580583, 0.74771801, 0.25790249, 0.72512549, 0.69048135,\n",
       "       0.25500923, 0.74797543, 0.67450027, 0.74734147, 0.69071295,\n",
       "       0.74182247, 0.74797543, 0.74209058, 0.74135076, 0.4051599 ,\n",
       "       0.74822624, 0.74580583, 0.74135076, 0.74580583, 0.72191439,\n",
       "       0.74085304, 0.74126144, 0.74786703, 0.74734147, 0.3269033 ,\n",
       "       0.27527018, 0.26644601, 0.63537118, 0.74734147, 0.74797543,\n",
       "       0.74797543, 0.74625493, 0.70400875, 0.74797543, 0.73129215,\n",
       "       0.73129215, 0.74797543, 0.73129215, 0.25382395, 0.74209058,\n",
       "       0.74797543, 0.74734147, 0.72191439, 0.28305219, 0.74580583,\n",
       "       0.74819307, 0.74822624, 0.74817455, 0.74817603, 0.74797543,\n",
       "       0.74797541, 0.74797543, 0.74817603, 0.74817603, 0.7480672 ,\n",
       "       0.74822604, 0.74822405, 0.74806718, 0.74819307, 0.74580583,\n",
       "       0.74822624, 0.74817603, 0.74734147, 0.74580583, 0.74580583,\n",
       "       0.74822624, 0.74819307, 0.74819285, 0.74817603, 0.74819305,\n",
       "       0.74820952, 0.74817603, 0.74819307, 0.74797541, 0.74755917,\n",
       "       0.74822405, 0.74819307, 0.74734147, 0.74135076, 0.74209058,\n",
       "       0.74797543, 0.74797543, 0.74817603, 0.74819307, 0.74819305,\n",
       "       0.74819307, 0.74819307, 0.74822624, 0.74822624, 0.74819307,\n",
       "       0.74797543, 0.74822405, 0.74819285, 0.74797543, 0.74819307])"
      ]
     },
     "execution_count": 30,
     "metadata": {},
     "output_type": "execute_result"
    }
   ],
   "source": [
    "result = inference_system.infer(karnik_mendel, df_X_fuzzified)\n",
    "result"
   ]
  },
  {
   "cell_type": "markdown",
   "id": "7867c93c",
   "metadata": {},
   "source": [
    "# Make classification"
   ]
  },
  {
   "cell_type": "code",
<<<<<<< HEAD
   "execution_count": 31,
   "id": "aa8987c2",
=======
   "execution_count": 30,
   "id": "37836268-ba29-47df-936f-1fb670140539",
>>>>>>> dev
   "metadata": {},
   "outputs": [],
   "source": [
    "from sklearn.metrics import accuracy_score"
   ]
  },
  {
   "cell_type": "code",
<<<<<<< HEAD
   "execution_count": 56,
   "id": "30c3f702",
=======
   "execution_count": 31,
   "id": "e5d52486-1bc2-4f36-9796-08b5f13e32bb",
>>>>>>> dev
   "metadata": {},
   "outputs": [],
   "source": [
    "theta1 = 0.30\n",
    "theta2 = 0.70"
   ]
  },
  {
   "cell_type": "code",
<<<<<<< HEAD
   "execution_count": 60,
   "id": "5290f9e3",
=======
   "execution_count": 32,
   "id": "59d27ef3-f507-4a68-aa77-5bfed49ba592",
>>>>>>> dev
   "metadata": {},
   "outputs": [],
   "source": [
    "def classify(theta1, theta2):\n",
    "    def _classify(x):\n",
    "        if x < theta1:\n",
    "            return 2\n",
    "        elif theta1 <= x < theta2:\n",
    "            return 0\n",
    "        else:\n",
    "            return 1\n",
    "    return _classify"
   ]
  },
  {
   "cell_type": "code",
<<<<<<< HEAD
   "execution_count": 61,
   "id": "4e993b49",
=======
   "execution_count": 33,
   "id": "23fdef3d-00f3-4746-a054-297335b343a1",
>>>>>>> dev
   "metadata": {},
   "outputs": [],
   "source": [
    "classify_func = classify(theta1, theta2)\n",
    "y_pred = list(map(lambda x: classify_func(x), result))"
   ]
  },
  {
   "cell_type": "code",
<<<<<<< HEAD
   "execution_count": 62,
   "id": "39682cc3",
=======
   "execution_count": 34,
   "id": "5fa0682b-d5bc-49f8-bf85-03aedf325ce0",
>>>>>>> dev
   "metadata": {},
   "outputs": [
    {
     "name": "stdout",
     "output_type": "stream",
     "text": [
      "Accuracy: 0.50000\n"
     ]
    }
   ],
   "source": [
    "accuracy = accuracy_score(y_pred, df_y.values)\n",
    "print(f'Accuracy: {accuracy:.5f}')"
   ]
  },
  {
   "cell_type": "code",
   "execution_count": null,
   "id": "1dc673e8",
   "metadata": {},
   "outputs": [],
   "source": []
  },
  {
   "cell_type": "code",
   "execution_count": null,
   "id": "4c7a9356-3a3b-4df0-9e5e-ff378893d996",
   "metadata": {},
   "outputs": [],
   "source": []
  }
 ],
 "metadata": {
  "kernelspec": {
   "display_name": "Python 3",
   "language": "python",
   "name": "python3"
  },
  "language_info": {
   "codemirror_mode": {
    "name": "ipython",
    "version": 3
   },
   "file_extension": ".py",
   "mimetype": "text/x-python",
   "name": "python",
   "nbconvert_exporter": "python",
   "pygments_lexer": "ipython3",
<<<<<<< HEAD
   "version": "3.8.8"
=======
   "version": "3.9.1"
>>>>>>> dev
  }
 },
 "nbformat": 4,
 "nbformat_minor": 5
}