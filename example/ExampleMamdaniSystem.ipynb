{
 "cells": [
  {
   "cell_type": "code",
   "execution_count": 5,
   "id": "aba839e3-946c-4c51-9f78-04e63dac1730",
   "metadata": {},
   "outputs": [],
   "source": [
    "import os\n",
    "os.chdir('..')"
   ]
  },
  {
   "cell_type": "markdown",
   "id": "b274dbb5-015a-483a-adb9-21629bd010a7",
   "metadata": {},
   "source": [
    "# Import necessary modules"
   ]
  },
  {
   "cell_type": "code",
   "execution_count": 40,
   "id": "96ca19e7-fc9c-44b9-8bcc-94b61d02cd73",
   "metadata": {},
   "outputs": [],
   "source": [
    "import numpy as np\n",
    "import pandas as pd\n",
    "import matplotlib.pyplot as plt"
   ]
  },
  {
   "cell_type": "markdown",
   "id": "49899ab1-e798-49af-82dd-edafa2273ad1",
   "metadata": {},
   "source": [
    "# Read dataset"
   ]
  },
  {
   "cell_type": "code",
   "execution_count": 77,
   "id": "a3aa4a65-afa2-4bd7-829d-06b45c30fac4",
   "metadata": {},
   "outputs": [],
   "source": [
    "from sklearn.preprocessing import MinMaxScaler"
   ]
  },
  {
   "cell_type": "code",
   "execution_count": 78,
   "id": "8a12b169-96fe-4d1e-bb6b-4fc466498d2a",
   "metadata": {},
   "outputs": [],
   "source": [
    "species_map = {'Iris-setosa': 0, 'Iris-versicolor': 1, 'Iris-virginica': 2}"
   ]
  },
  {
   "cell_type": "code",
   "execution_count": 79,
   "id": "8c9a8c93-20d6-46da-aa86-85d75e7dc9ff",
   "metadata": {},
   "outputs": [],
   "source": [
    "df = pd.read_csv('example/data.csv')"
   ]
  },
  {
   "cell_type": "code",
   "execution_count": 80,
   "id": "e35a2500-9ed0-4582-ae6e-81546a6677d3",
   "metadata": {},
   "outputs": [],
   "source": [
    "df_X = df.drop(columns='species')\n",
    "df_y = df['species'].map(species_map)"
   ]
  },
  {
   "cell_type": "code",
   "execution_count": 81,
   "id": "53e97506-b355-45c8-ba7f-e5d2fcb4431d",
   "metadata": {},
   "outputs": [
    {
     "data": {
      "text/html": [
       "<div>\n",
       "<style scoped>\n",
       "    .dataframe tbody tr th:only-of-type {\n",
       "        vertical-align: middle;\n",
       "    }\n",
       "\n",
       "    .dataframe tbody tr th {\n",
       "        vertical-align: top;\n",
       "    }\n",
       "\n",
       "    .dataframe thead th {\n",
       "        text-align: right;\n",
       "    }\n",
       "</style>\n",
       "<table border=\"1\" class=\"dataframe\">\n",
       "  <thead>\n",
       "    <tr style=\"text-align: right;\">\n",
       "      <th></th>\n",
       "      <th>sepal-length</th>\n",
       "      <th>sepal-width</th>\n",
       "      <th>petal-length</th>\n",
       "      <th>petal-width</th>\n",
       "    </tr>\n",
       "  </thead>\n",
       "  <tbody>\n",
       "    <tr>\n",
       "      <th>0</th>\n",
       "      <td>5.1</td>\n",
       "      <td>3.5</td>\n",
       "      <td>1.4</td>\n",
       "      <td>0.2</td>\n",
       "    </tr>\n",
       "    <tr>\n",
       "      <th>1</th>\n",
       "      <td>4.9</td>\n",
       "      <td>3.0</td>\n",
       "      <td>1.4</td>\n",
       "      <td>0.2</td>\n",
       "    </tr>\n",
       "    <tr>\n",
       "      <th>2</th>\n",
       "      <td>4.7</td>\n",
       "      <td>3.2</td>\n",
       "      <td>1.3</td>\n",
       "      <td>0.2</td>\n",
       "    </tr>\n",
       "    <tr>\n",
       "      <th>3</th>\n",
       "      <td>4.6</td>\n",
       "      <td>3.1</td>\n",
       "      <td>1.5</td>\n",
       "      <td>0.2</td>\n",
       "    </tr>\n",
       "    <tr>\n",
       "      <th>4</th>\n",
       "      <td>5.0</td>\n",
       "      <td>3.6</td>\n",
       "      <td>1.4</td>\n",
       "      <td>0.2</td>\n",
       "    </tr>\n",
       "    <tr>\n",
       "      <th>...</th>\n",
       "      <td>...</td>\n",
       "      <td>...</td>\n",
       "      <td>...</td>\n",
       "      <td>...</td>\n",
       "    </tr>\n",
       "    <tr>\n",
       "      <th>145</th>\n",
       "      <td>6.7</td>\n",
       "      <td>3.0</td>\n",
       "      <td>5.2</td>\n",
       "      <td>2.3</td>\n",
       "    </tr>\n",
       "    <tr>\n",
       "      <th>146</th>\n",
       "      <td>6.3</td>\n",
       "      <td>2.5</td>\n",
       "      <td>5.0</td>\n",
       "      <td>1.9</td>\n",
       "    </tr>\n",
       "    <tr>\n",
       "      <th>147</th>\n",
       "      <td>6.5</td>\n",
       "      <td>3.0</td>\n",
       "      <td>5.2</td>\n",
       "      <td>2.0</td>\n",
       "    </tr>\n",
       "    <tr>\n",
       "      <th>148</th>\n",
       "      <td>6.2</td>\n",
       "      <td>3.4</td>\n",
       "      <td>5.4</td>\n",
       "      <td>2.3</td>\n",
       "    </tr>\n",
       "    <tr>\n",
       "      <th>149</th>\n",
       "      <td>5.9</td>\n",
       "      <td>3.0</td>\n",
       "      <td>5.1</td>\n",
       "      <td>1.8</td>\n",
       "    </tr>\n",
       "  </tbody>\n",
       "</table>\n",
       "<p>150 rows × 4 columns</p>\n",
       "</div>"
      ],
      "text/plain": [
       "     sepal-length  sepal-width  petal-length  petal-width\n",
       "0             5.1          3.5           1.4          0.2\n",
       "1             4.9          3.0           1.4          0.2\n",
       "2             4.7          3.2           1.3          0.2\n",
       "3             4.6          3.1           1.5          0.2\n",
       "4             5.0          3.6           1.4          0.2\n",
       "..            ...          ...           ...          ...\n",
       "145           6.7          3.0           5.2          2.3\n",
       "146           6.3          2.5           5.0          1.9\n",
       "147           6.5          3.0           5.2          2.0\n",
       "148           6.2          3.4           5.4          2.3\n",
       "149           5.9          3.0           5.1          1.8\n",
       "\n",
       "[150 rows x 4 columns]"
      ]
     },
     "execution_count": 81,
     "metadata": {},
     "output_type": "execute_result"
    }
   ],
   "source": [
    "df_X"
   ]
  },
  {
   "cell_type": "code",
   "execution_count": 82,
   "id": "064bb49e-e400-4b2e-8011-7491c7a5f9d0",
   "metadata": {},
   "outputs": [
    {
     "data": {
      "text/plain": [
       "0      0\n",
       "1      0\n",
       "2      0\n",
       "3      0\n",
       "4      0\n",
       "      ..\n",
       "145    2\n",
       "146    2\n",
       "147    2\n",
       "148    2\n",
       "149    2\n",
       "Name: species, Length: 150, dtype: int64"
      ]
     },
     "execution_count": 82,
     "metadata": {},
     "output_type": "execute_result"
    }
   ],
   "source": [
    "df_y"
   ]
  },
  {
   "cell_type": "code",
   "execution_count": 83,
   "id": "d841c337-ea63-49d4-afb4-9e3e99a7cd81",
   "metadata": {},
   "outputs": [],
   "source": [
    "x = df_X.values \n",
    "min_max_scaler = MinMaxScaler()\n",
    "x_scaled = min_max_scaler.fit_transform(x)\n",
    "df_X = pd.DataFrame(x_scaled, columns=df_X.columns)"
   ]
  },
  {
   "cell_type": "code",
   "execution_count": 84,
   "id": "cc232ded-5d24-4274-af1b-5f683090630f",
   "metadata": {},
   "outputs": [
    {
     "data": {
      "text/html": [
       "<div>\n",
       "<style scoped>\n",
       "    .dataframe tbody tr th:only-of-type {\n",
       "        vertical-align: middle;\n",
       "    }\n",
       "\n",
       "    .dataframe tbody tr th {\n",
       "        vertical-align: top;\n",
       "    }\n",
       "\n",
       "    .dataframe thead th {\n",
       "        text-align: right;\n",
       "    }\n",
       "</style>\n",
       "<table border=\"1\" class=\"dataframe\">\n",
       "  <thead>\n",
       "    <tr style=\"text-align: right;\">\n",
       "      <th></th>\n",
       "      <th>sepal-length</th>\n",
       "      <th>sepal-width</th>\n",
       "      <th>petal-length</th>\n",
       "      <th>petal-width</th>\n",
       "    </tr>\n",
       "  </thead>\n",
       "  <tbody>\n",
       "    <tr>\n",
       "      <th>0</th>\n",
       "      <td>0.222222</td>\n",
       "      <td>0.625000</td>\n",
       "      <td>0.067797</td>\n",
       "      <td>0.041667</td>\n",
       "    </tr>\n",
       "    <tr>\n",
       "      <th>1</th>\n",
       "      <td>0.166667</td>\n",
       "      <td>0.416667</td>\n",
       "      <td>0.067797</td>\n",
       "      <td>0.041667</td>\n",
       "    </tr>\n",
       "    <tr>\n",
       "      <th>2</th>\n",
       "      <td>0.111111</td>\n",
       "      <td>0.500000</td>\n",
       "      <td>0.050847</td>\n",
       "      <td>0.041667</td>\n",
       "    </tr>\n",
       "    <tr>\n",
       "      <th>3</th>\n",
       "      <td>0.083333</td>\n",
       "      <td>0.458333</td>\n",
       "      <td>0.084746</td>\n",
       "      <td>0.041667</td>\n",
       "    </tr>\n",
       "    <tr>\n",
       "      <th>4</th>\n",
       "      <td>0.194444</td>\n",
       "      <td>0.666667</td>\n",
       "      <td>0.067797</td>\n",
       "      <td>0.041667</td>\n",
       "    </tr>\n",
       "    <tr>\n",
       "      <th>...</th>\n",
       "      <td>...</td>\n",
       "      <td>...</td>\n",
       "      <td>...</td>\n",
       "      <td>...</td>\n",
       "    </tr>\n",
       "    <tr>\n",
       "      <th>145</th>\n",
       "      <td>0.666667</td>\n",
       "      <td>0.416667</td>\n",
       "      <td>0.711864</td>\n",
       "      <td>0.916667</td>\n",
       "    </tr>\n",
       "    <tr>\n",
       "      <th>146</th>\n",
       "      <td>0.555556</td>\n",
       "      <td>0.208333</td>\n",
       "      <td>0.677966</td>\n",
       "      <td>0.750000</td>\n",
       "    </tr>\n",
       "    <tr>\n",
       "      <th>147</th>\n",
       "      <td>0.611111</td>\n",
       "      <td>0.416667</td>\n",
       "      <td>0.711864</td>\n",
       "      <td>0.791667</td>\n",
       "    </tr>\n",
       "    <tr>\n",
       "      <th>148</th>\n",
       "      <td>0.527778</td>\n",
       "      <td>0.583333</td>\n",
       "      <td>0.745763</td>\n",
       "      <td>0.916667</td>\n",
       "    </tr>\n",
       "    <tr>\n",
       "      <th>149</th>\n",
       "      <td>0.444444</td>\n",
       "      <td>0.416667</td>\n",
       "      <td>0.694915</td>\n",
       "      <td>0.708333</td>\n",
       "    </tr>\n",
       "  </tbody>\n",
       "</table>\n",
       "<p>150 rows × 4 columns</p>\n",
       "</div>"
      ],
      "text/plain": [
       "     sepal-length  sepal-width  petal-length  petal-width\n",
       "0        0.222222     0.625000      0.067797     0.041667\n",
       "1        0.166667     0.416667      0.067797     0.041667\n",
       "2        0.111111     0.500000      0.050847     0.041667\n",
       "3        0.083333     0.458333      0.084746     0.041667\n",
       "4        0.194444     0.666667      0.067797     0.041667\n",
       "..            ...          ...           ...          ...\n",
       "145      0.666667     0.416667      0.711864     0.916667\n",
       "146      0.555556     0.208333      0.677966     0.750000\n",
       "147      0.611111     0.416667      0.711864     0.791667\n",
       "148      0.527778     0.583333      0.745763     0.916667\n",
       "149      0.444444     0.416667      0.694915     0.708333\n",
       "\n",
       "[150 rows x 4 columns]"
      ]
     },
     "execution_count": 84,
     "metadata": {},
     "output_type": "execute_result"
    }
   ],
   "source": [
    "df_X"
   ]
  },
  {
   "cell_type": "markdown",
   "id": "67c27783-70f6-4643-bca1-7704e03a0234",
   "metadata": {},
   "source": [
    "# Create linguistic variables"
   ]
  },
  {
   "cell_type": "code",
   "execution_count": 48,
   "id": "154401b5-421c-4b23-b2da-db098a4b315f",
   "metadata": {},
   "outputs": [],
   "source": [
    "from doggos.knowledge import LinguisticVariable, Domain"
   ]
  },
  {
   "cell_type": "code",
   "execution_count": 145,
   "id": "d09d5f2b-d495-4958-844c-8705feabb5c4",
   "metadata": {},
   "outputs": [],
   "source": [
    "# features linguistic variables\n",
    "sepal_length = LinguisticVariable('sepal-length', Domain(0, 1.001, 0.001))\n",
    "sepal_width = LinguisticVariable('sepal-width', Domain(0, 1.001, 0.001))\n",
    "petal_length = LinguisticVariable('petal-length', Domain(0, 1.001, 0.001))\n",
    "petal_width = LinguisticVariable('petal-width', Domain(0, 1.001, 0.001))"
   ]
  },
  {
   "cell_type": "code",
   "execution_count": 146,
   "id": "b598fc02-0e75-4ec5-bd54-249225e9709b",
   "metadata": {},
   "outputs": [],
   "source": [
    "# decision linguistic variable\n",
    "species = LinguisticVariable('species', Domain(0, 1, 0.001))"
   ]
  },
  {
   "cell_type": "markdown",
   "id": "8554f3d5-aaa3-4216-b177-d9460f8215a8",
   "metadata": {},
   "source": [
    "# Define clauses"
   ]
  },
  {
   "cell_type": "code",
   "execution_count": 147,
   "id": "5c0a3dba-9dc5-441f-accd-3f26cede0490",
   "metadata": {},
   "outputs": [],
   "source": [
    "from doggos.knowledge import Clause\n",
    "from doggos.fuzzy_sets import IntervalType2FuzzySet\n",
    "from doggos.utils.membership_functions import triangular, trapezoidal, gaussian"
   ]
  },
  {
   "cell_type": "code",
   "execution_count": 148,
   "id": "d6a5fdaa-f394-410a-aea2-74378c04b592",
   "metadata": {},
   "outputs": [],
   "source": [
    "clauses = [\n",
    "    # clauses for petal length\n",
    "    Clause(petal_length, 'small', IntervalType2FuzzySet(triangular(0, 0.25, 0.5, 0.8), triangular(0, 0.25, 0.5))),\n",
    "    Clause(petal_length, 'medium', IntervalType2FuzzySet(triangular(0.25, 0.5, 0.75, 0.8), triangular(0.25, 0.5, 0.75))),\n",
    "    Clause(petal_length, 'big', IntervalType2FuzzySet(triangular(0.5, 0.75, 1, 0.8), triangular(0.5, 0.75, 1, 1))),\n",
    "    # clauses for petal width\n",
    "    Clause(petal_width, 'small', IntervalType2FuzzySet(gaussian(0.25, 0.1), gaussian(0.25, 0.15))),\n",
    "    Clause(petal_width, 'medium', IntervalType2FuzzySet(gaussian(0.5, 0.1), gaussian(0.5, 0.15))),\n",
    "    Clause(petal_width, 'big', IntervalType2FuzzySet(gaussian(0.75, 0.1), gaussian(0.75, 0.15))),\n",
    "    # claueses for sepal length\n",
    "    Clause(sepal_length, 'small', IntervalType2FuzzySet(triangular(0, 0.25, 0.5, 0.8), triangular(0, 0.25, 0.5))),\n",
    "    Clause(sepal_length, 'medium', IntervalType2FuzzySet(triangular(0.25, 0.5, 0.75, 0.8), triangular(0.25, 0.5, 0.75))),\n",
    "    Clause(sepal_length, 'big', IntervalType2FuzzySet(triangular(0.6, 0.9, 1, 0.8), triangular(0.6, 0.9, 1, 1))),\n",
    "    # clauses for sepal width\n",
    "    Clause(sepal_width, 'small', IntervalType2FuzzySet(gaussian(0.25, 0.1), gaussian(0.25, 0.15))),\n",
    "    Clause(sepal_width, 'medium', IntervalType2FuzzySet(gaussian(0.5, 0.1), gaussian(0.5, 0.15))),\n",
    "    Clause(sepal_width, 'big', IntervalType2FuzzySet(gaussian(0.75, 0.1), gaussian(0.75, 0.15)))\n",
    "]"
   ]
  },
  {
   "cell_type": "code",
   "execution_count": 149,
   "id": "4ce848ba-609a-4287-9d87-9e1ab5070a28",
   "metadata": {},
   "outputs": [
    {
     "name": "stdout",
     "output_type": "stream",
     "text": [
      "Clause petal-length is small\n",
      "Clause petal-length is medium\n",
      "Clause petal-length is big\n",
      "Clause petal-width is small\n",
      "Clause petal-width is medium\n",
      "Clause petal-width is big\n",
      "Clause sepal-length is small\n",
      "Clause sepal-length is medium\n",
      "Clause sepal-length is big\n",
      "Clause sepal-width is small\n",
      "Clause sepal-width is medium\n",
      "Clause sepal-width is big\n"
     ]
    }
   ],
   "source": [
    "for clause in clauses:\n",
    "    print(clause)"
   ]
  },
  {
   "cell_type": "code",
   "execution_count": 150,
   "id": "40190e03-b6dd-4320-b08a-8e8ad51c58e4",
   "metadata": {},
   "outputs": [],
   "source": [
    "# decision clause"
   ]
  },
  {
   "cell_type": "code",
   "execution_count": 151,
   "id": "c1e44d35-f631-4aea-b0d7-b221f2cca1f3",
   "metadata": {},
   "outputs": [],
   "source": [
    "decision_clauses = [\n",
    "    Clause(species, 'zero', IntervalType2FuzzySet(gaussian(0.25, 0.1), gaussian(0.25, 0.15))),\n",
    "    Clause(species, 'one', IntervalType2FuzzySet(gaussian(0.5, 0.1), gaussian(0.5, 0.15))),\n",
    "    Clause(species, 'two', IntervalType2FuzzySet(gaussian(0.75, 0.1), gaussian(0.75, 0.15)))\n",
    "]"
   ]
  },
  {
   "cell_type": "markdown",
   "id": "1d56a6e5-0916-4a47-90c9-be6f3ed027d7",
   "metadata": {},
   "source": [
    "# Define consequents"
   ]
  },
  {
   "cell_type": "code",
   "execution_count": 152,
   "id": "4ee052e8-4d8f-4c38-a810-19354db73657",
   "metadata": {},
   "outputs": [],
   "source": [
    "from doggos.knowledge.consequents import MamdaniConsequent"
   ]
  },
  {
   "cell_type": "code",
   "execution_count": 153,
   "id": "c431c473-534f-49c1-accb-14da7e70a3b9",
   "metadata": {},
   "outputs": [],
   "source": [
    "species_zero = MamdaniConsequent(decision_clauses[0])\n",
    "species_one = MamdaniConsequent(decision_clauses[1])\n",
    "species_two = MamdaniConsequent(decision_clauses[2])"
   ]
  },
  {
   "cell_type": "markdown",
   "id": "b1c06843-ea0b-4686-b486-08d45f866d24",
   "metadata": {},
   "source": [
    "# Define terms"
   ]
  },
  {
   "cell_type": "code",
   "execution_count": 154,
   "id": "29138d51-4ed5-47b7-9031-c5bf26870c18",
   "metadata": {},
   "outputs": [],
   "source": [
    "from doggos.knowledge import Term\n",
    "from doggos.algebras import LukasiewiczAlgebra"
   ]
  },
  {
   "cell_type": "code",
   "execution_count": 155,
   "id": "abab0cd9-f5d1-4ef8-8596-144ed43f1796",
   "metadata": {},
   "outputs": [],
   "source": [
    "terms = list()\n",
    "algebra = LukasiewiczAlgebra()\n",
    "for clause in clauses:\n",
    "    terms.append(Term(algebra, clause))"
   ]
  },
  {
   "cell_type": "markdown",
   "id": "02e4cb15-3843-443f-ae57-9b7a17b85d21",
   "metadata": {},
   "source": [
    "# Define antecedents"
   ]
  },
  {
   "cell_type": "code",
   "execution_count": 156,
   "id": "cb1a81c1-a19a-488a-ba85-359df8da74cd",
   "metadata": {},
   "outputs": [],
   "source": [
    "# define random antecedents\n",
    "antecedent1 = terms[0] & terms[3] | terms[5]\n",
    "antecedent2 = (terms[1] & terms[4]) | (terms[3] & terms[8])\n",
    "antecedent3 = terms[2] & (terms[0] | terms[7] & (terms[3] | terms[6]) | terms[8])"
   ]
  },
  {
   "cell_type": "markdown",
   "id": "71e9bd7b-4ca5-42a1-953c-bf829283bc86",
   "metadata": {},
   "source": [
    "# Create rules"
   ]
  },
  {
   "cell_type": "code",
   "execution_count": 157,
   "id": "1c563677-43b2-45e8-99a4-6ed5afeb7954",
   "metadata": {},
   "outputs": [],
   "source": [
    "from doggos.knowledge import Rule"
   ]
  },
  {
   "cell_type": "code",
   "execution_count": 158,
   "id": "1c0ac721-593e-40b8-a708-d697e2a22429",
   "metadata": {},
   "outputs": [],
   "source": [
    "rules = [\n",
    "    Rule(antecedent1, species_zero),\n",
    "    Rule(antecedent2, species_one),\n",
    "    Rule(antecedent3, species_two)\n",
    "]"
   ]
  },
  {
   "cell_type": "markdown",
   "id": "fa6fef3c-a5dd-468b-add2-f8518fb1d231",
   "metadata": {},
   "source": [
    "# Fuzzify dataset"
   ]
  },
  {
   "cell_type": "code",
   "execution_count": 159,
   "id": "92472731-2ced-4d6b-94b2-5fe882034469",
   "metadata": {},
   "outputs": [],
   "source": [
    "from doggos.knowledge import fuzzify"
   ]
  },
  {
   "cell_type": "code",
   "execution_count": 160,
   "id": "d98b6ce6-4399-4bda-bf86-9b90f1a71853",
   "metadata": {},
   "outputs": [],
   "source": [
    "df_X_fuzzified = fuzzify(df_X, clauses)"
   ]
  },
  {
   "cell_type": "markdown",
   "id": "f5cf99ab-3a8a-4b82-80f3-a28946571993",
   "metadata": {},
   "source": [
    "# Create inference system"
   ]
  },
  {
   "cell_type": "code",
   "execution_count": 163,
   "id": "c588fe4d-4563-45c2-8b73-3a9e9e68f7b2",
   "metadata": {},
   "outputs": [],
   "source": [
    "from doggos.inference import MamdaniInferenceSystem\n",
    "from doggos.inference.defuzzification_algorithms import karnik_mendel"
   ]
  },
  {
   "cell_type": "code",
   "execution_count": 164,
   "id": "a9ce8782-090d-46e4-89d3-8106e78b8ed9",
   "metadata": {},
   "outputs": [],
   "source": [
    "inference_system = MamdaniInferenceSystem(rules)"
   ]
  },
  {
   "cell_type": "code",
   "execution_count": 165,
   "id": "861c878a-4762-49d4-b273-3622a40d5181",
   "metadata": {},
   "outputs": [
    {
     "ename": "IndexError",
     "evalue": "too many indices for array: array is 0-dimensional, but 1 were indexed",
     "output_type": "error",
     "traceback": [
      "\u001b[1;31m---------------------------------------------------------------------------\u001b[0m",
      "\u001b[1;31mIndexError\u001b[0m                                Traceback (most recent call last)",
      "\u001b[1;32m<ipython-input-165-3d4a0d27bb63>\u001b[0m in \u001b[0;36m<module>\u001b[1;34m\u001b[0m\n\u001b[1;32m----> 1\u001b[1;33m \u001b[0minference_system\u001b[0m\u001b[1;33m.\u001b[0m\u001b[0minfer\u001b[0m\u001b[1;33m(\u001b[0m\u001b[0mkarnik_mendel\u001b[0m\u001b[1;33m,\u001b[0m \u001b[0mdf_X_fuzzified\u001b[0m\u001b[1;33m)\u001b[0m\u001b[1;33m\u001b[0m\u001b[1;33m\u001b[0m\u001b[0m\n\u001b[0m",
      "\u001b[1;32m~\\Desktop\\PythonProjects\\DoggOSFuzzy\\doggos\\inference\\mamdani_inference_system.py\u001b[0m in \u001b[0;36minfer\u001b[1;34m(self, defuzzification_method, features)\u001b[0m\n\u001b[0;32m     62\u001b[0m             \u001b[1;32mraise\u001b[0m \u001b[0mValueError\u001b[0m\u001b[1;33m(\u001b[0m\u001b[1;34m\"Defuzzifiaction method must be callable\"\u001b[0m\u001b[1;33m)\u001b[0m\u001b[1;33m\u001b[0m\u001b[1;33m\u001b[0m\u001b[0m\n\u001b[0;32m     63\u001b[0m \u001b[1;33m\u001b[0m\u001b[0m\n\u001b[1;32m---> 64\u001b[1;33m         \u001b[0mdegrees\u001b[0m \u001b[1;33m=\u001b[0m \u001b[0mself\u001b[0m\u001b[1;33m.\u001b[0m\u001b[0m__get_degrees\u001b[0m\u001b[1;33m(\u001b[0m\u001b[0mfeatures\u001b[0m\u001b[1;33m)\u001b[0m\u001b[1;33m\u001b[0m\u001b[1;33m\u001b[0m\u001b[0m\n\u001b[0m\u001b[0;32m     65\u001b[0m         \u001b[0mis_type1\u001b[0m \u001b[1;33m=\u001b[0m \u001b[0mself\u001b[0m\u001b[1;33m.\u001b[0m\u001b[0m__is_consequent_type1\u001b[0m\u001b[1;33m(\u001b[0m\u001b[1;33m)\u001b[0m\u001b[1;33m\u001b[0m\u001b[1;33m\u001b[0m\u001b[0m\n\u001b[0;32m     66\u001b[0m         \u001b[0mresult\u001b[0m \u001b[1;33m=\u001b[0m \u001b[0mnp\u001b[0m\u001b[1;33m.\u001b[0m\u001b[0mzeros\u001b[0m\u001b[1;33m(\u001b[0m\u001b[0mshape\u001b[0m\u001b[1;33m=\u001b[0m\u001b[1;33m(\u001b[0m\u001b[1;36m1\u001b[0m\u001b[1;33m,\u001b[0m \u001b[0mlen\u001b[0m\u001b[1;33m(\u001b[0m\u001b[0mdegrees\u001b[0m\u001b[1;33m)\u001b[0m\u001b[1;33m)\u001b[0m\u001b[1;33m)\u001b[0m\u001b[1;33m\u001b[0m\u001b[1;33m\u001b[0m\u001b[0m\n",
      "\u001b[1;32m~\\Desktop\\PythonProjects\\DoggOSFuzzy\\doggos\\inference\\mamdani_inference_system.py\u001b[0m in \u001b[0;36m__get_degrees\u001b[1;34m(self, features)\u001b[0m\n\u001b[0;32m     85\u001b[0m     \u001b[1;32mdef\u001b[0m \u001b[0m__get_degrees\u001b[0m\u001b[1;33m(\u001b[0m\u001b[0mself\u001b[0m\u001b[1;33m,\u001b[0m \u001b[0mfeatures\u001b[0m\u001b[1;33m:\u001b[0m \u001b[0mDict\u001b[0m\u001b[1;33m[\u001b[0m\u001b[0mClause\u001b[0m\u001b[1;33m,\u001b[0m \u001b[0mList\u001b[0m\u001b[1;33m[\u001b[0m\u001b[0mMembershipDegree\u001b[0m\u001b[1;33m]\u001b[0m\u001b[1;33m]\u001b[0m\u001b[1;33m)\u001b[0m \u001b[1;33m->\u001b[0m \u001b[0mList\u001b[0m\u001b[1;33m[\u001b[0m\u001b[0mMembershipDegree\u001b[0m\u001b[1;33m]\u001b[0m\u001b[1;33m:\u001b[0m\u001b[1;33m\u001b[0m\u001b[1;33m\u001b[0m\u001b[0m\n\u001b[0;32m     86\u001b[0m         \u001b[0mvalues\u001b[0m \u001b[1;33m=\u001b[0m \u001b[0mnp\u001b[0m\u001b[1;33m.\u001b[0m\u001b[0marray\u001b[0m\u001b[1;33m(\u001b[0m\u001b[0mfeatures\u001b[0m\u001b[1;33m.\u001b[0m\u001b[0mvalues\u001b[0m\u001b[1;33m(\u001b[0m\u001b[1;33m)\u001b[0m\u001b[1;33m)\u001b[0m\u001b[1;33m\u001b[0m\u001b[1;33m\u001b[0m\u001b[0m\n\u001b[1;32m---> 87\u001b[1;33m         \u001b[1;32mreturn\u001b[0m \u001b[0mvalues\u001b[0m\u001b[1;33m[\u001b[0m\u001b[1;36m0\u001b[0m\u001b[1;33m]\u001b[0m\u001b[1;33m\u001b[0m\u001b[1;33m\u001b[0m\u001b[0m\n\u001b[0m\u001b[0;32m     88\u001b[0m \u001b[1;33m\u001b[0m\u001b[0m\n\u001b[0;32m     89\u001b[0m     \u001b[1;32mdef\u001b[0m \u001b[0m__validate_consequents\u001b[0m\u001b[1;33m(\u001b[0m\u001b[0mself\u001b[0m\u001b[1;33m)\u001b[0m \u001b[1;33m->\u001b[0m \u001b[0mNoReturn\u001b[0m\u001b[1;33m:\u001b[0m\u001b[1;33m\u001b[0m\u001b[1;33m\u001b[0m\u001b[0m\n",
      "\u001b[1;31mIndexError\u001b[0m: too many indices for array: array is 0-dimensional, but 1 were indexed"
     ]
    }
   ],
   "source": [
    "inference_system.infer(karnik_mendel, df_X_fuzzified)"
   ]
  },
  {
   "cell_type": "code",
   "execution_count": null,
   "id": "b8329712-f3f7-4b95-92cd-8b8adb9c0cf6",
   "metadata": {},
   "outputs": [],
   "source": []
  }
 ],
 "metadata": {
  "kernelspec": {
   "display_name": "Python 3",
   "language": "python",
   "name": "python3"
  },
  "language_info": {
   "codemirror_mode": {
    "name": "ipython",
    "version": 3
   },
   "file_extension": ".py",
   "mimetype": "text/x-python",
   "name": "python",
   "nbconvert_exporter": "python",
   "pygments_lexer": "ipython3",
   "version": "3.9.4"
  }
 },
 "nbformat": 4,
 "nbformat_minor": 5
}
