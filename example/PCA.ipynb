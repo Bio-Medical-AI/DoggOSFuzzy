{
 "cells": [
  {
   "cell_type": "code",
   "execution_count": 9,
   "id": "ee51ee20-a569-4937-b600-af332c783fee",
   "metadata": {},
   "outputs": [],
   "source": [
    "import os\n",
    "os.path.join('../')\n",
    "from collections import defaultdict, OrderedDict\n",
    "from typing import Dict, List, Any, Callable\n",
    "\n",
    "from pprint import pprint\n",
    "import pandas as pd\n",
    "import numpy as np\n",
    "import matplotlib.pyplot as plt\n",
    "\n",
    "from sklearn.decomposition import PCA, KernelPCA\n",
    "from sklearn.preprocessing import MinMaxScaler, StandardScaler\n",
    "\n",
    "from doggos.fuzzy_sets import Type1FuzzySet\n",
    "from doggos.fuzzy_sets.fuzzy_set import FuzzySet\n",
    "from doggos.induction.information_system import InformationSystem\n",
    "from doggos.inference import MamdaniInferenceSystem\n",
    "from doggos.inference.defuzzification_algorithms import center_of_gravity, karnik_mendel\n",
    "from doggos.inference.inference_system import InferenceSystem\n",
    "from doggos.knowledge import Rule, Clause, fuzzify, LinguisticVariable, Domain\n",
    "from doggos.knowledge.consequents import MamdaniConsequent\n",
    "from doggos.knowledge.consequents.consequent import Consequent\n",
    "from doggos.utils.grouping_functions import create_set_of_variables\n",
    "from doggos.utils.membership_functions.membership_functions import generate_equal_gausses, sigmoid, gaussian"
   ]
  },
  {
   "cell_type": "code",
   "execution_count": 70,
   "id": "0919a514-a3e7-42d3-9c2c-6bbc03e643db",
   "metadata": {},
   "outputs": [
    {
     "data": {
      "text/plain": "   F0   F1  F2  F3   F4       F5     F6  F7  Decision\n0   6  148  72  35    0     33.6  0.627  50         1\n1   1   85  66  29    0  43642.0  0.351  31         0\n2   8  183  64   0    0  43547.0  0.672  32         1\n3   1   89  66  23   94  43493.0  0.167  21         0\n4   0  137  40  35  168     43.1  2.288  33         1",
      "text/html": "<div>\n<style scoped>\n    .dataframe tbody tr th:only-of-type {\n        vertical-align: middle;\n    }\n\n    .dataframe tbody tr th {\n        vertical-align: top;\n    }\n\n    .dataframe thead th {\n        text-align: right;\n    }\n</style>\n<table border=\"1\" class=\"dataframe\">\n  <thead>\n    <tr style=\"text-align: right;\">\n      <th></th>\n      <th>F0</th>\n      <th>F1</th>\n      <th>F2</th>\n      <th>F3</th>\n      <th>F4</th>\n      <th>F5</th>\n      <th>F6</th>\n      <th>F7</th>\n      <th>Decision</th>\n    </tr>\n  </thead>\n  <tbody>\n    <tr>\n      <th>0</th>\n      <td>6</td>\n      <td>148</td>\n      <td>72</td>\n      <td>35</td>\n      <td>0</td>\n      <td>33.6</td>\n      <td>0.627</td>\n      <td>50</td>\n      <td>1</td>\n    </tr>\n    <tr>\n      <th>1</th>\n      <td>1</td>\n      <td>85</td>\n      <td>66</td>\n      <td>29</td>\n      <td>0</td>\n      <td>43642.0</td>\n      <td>0.351</td>\n      <td>31</td>\n      <td>0</td>\n    </tr>\n    <tr>\n      <th>2</th>\n      <td>8</td>\n      <td>183</td>\n      <td>64</td>\n      <td>0</td>\n      <td>0</td>\n      <td>43547.0</td>\n      <td>0.672</td>\n      <td>32</td>\n      <td>1</td>\n    </tr>\n    <tr>\n      <th>3</th>\n      <td>1</td>\n      <td>89</td>\n      <td>66</td>\n      <td>23</td>\n      <td>94</td>\n      <td>43493.0</td>\n      <td>0.167</td>\n      <td>21</td>\n      <td>0</td>\n    </tr>\n    <tr>\n      <th>4</th>\n      <td>0</td>\n      <td>137</td>\n      <td>40</td>\n      <td>35</td>\n      <td>168</td>\n      <td>43.1</td>\n      <td>2.288</td>\n      <td>33</td>\n      <td>1</td>\n    </tr>\n  </tbody>\n</table>\n</div>"
     },
     "execution_count": 70,
     "metadata": {},
     "output_type": "execute_result"
    }
   ],
   "source": [
    "dataset_name = \"Pima Indians Diabetes\"\n",
    "ds = pd.read_csv(\"../data/\" + dataset_name + \".csv\", sep=\";\")\n",
    "\n",
    "ds.head()"
   ]
  },
  {
   "cell_type": "code",
   "execution_count": 67,
   "outputs": [
    {
     "name": "stdout",
     "output_type": "stream",
     "text": [
      "[0.23327578 0.21109452 0.13147107 0.12027503]\n"
     ]
    }
   ],
   "source": [
    "pca = PCA(n_components=4)\n",
    "values_no_decision = ds.drop(labels=[\"Decision\"], axis=1)\n",
    "min_max_scaler = StandardScaler()\n",
    "values_no_decision = min_max_scaler.fit_transform(values_no_decision.values)\n",
    "pca.fit(values_no_decision)\n",
    "print(pca.explained_variance_ratio_)"
   ],
   "metadata": {
    "collapsed": false,
    "pycharm": {
     "name": "#%%\n"
    }
   }
  },
  {
   "cell_type": "code",
   "execution_count": 74,
   "outputs": [
    {
     "name": "stdout",
     "output_type": "stream",
     "text": [
      "[0.33121241 0.32015514 0.19676206 0.15187038]\n"
     ]
    }
   ],
   "source": [
    "pca = KernelPCA(n_components=4, kernel='cosine')\n",
    "values_no_decision = ds.drop(labels=[\"Decision\"], axis=1)\n",
    "min_max_scaler = StandardScaler()\n",
    "values_no_decision = min_max_scaler.fit_transform(values_no_decision.values)\n",
    "pca.fit(values_no_decision)\n",
    "print(pca.eigenvalues_ / np.sum(pca.eigenvalues_))"
   ],
   "metadata": {
    "collapsed": false,
    "pycharm": {
     "name": "#%%\n"
    }
   }
  },
  {
   "cell_type": "code",
   "execution_count": 75,
   "outputs": [
    {
     "data": {
      "text/plain": "         F0        F1        F2        F3  Decision\n0 -0.797040  0.337742 -0.071106 -0.101933         1\n1  0.711495 -0.137242  0.031882 -0.465346         0\n2  0.089455  0.761423  0.356936  0.354945         1\n3  0.804412 -0.341123  0.220552 -0.266251         0\n4 -0.194893 -0.597016  0.237802  0.230301         1",
      "text/html": "<div>\n<style scoped>\n    .dataframe tbody tr th:only-of-type {\n        vertical-align: middle;\n    }\n\n    .dataframe tbody tr th {\n        vertical-align: top;\n    }\n\n    .dataframe thead th {\n        text-align: right;\n    }\n</style>\n<table border=\"1\" class=\"dataframe\">\n  <thead>\n    <tr style=\"text-align: right;\">\n      <th></th>\n      <th>F0</th>\n      <th>F1</th>\n      <th>F2</th>\n      <th>F3</th>\n      <th>Decision</th>\n    </tr>\n  </thead>\n  <tbody>\n    <tr>\n      <th>0</th>\n      <td>-0.797040</td>\n      <td>0.337742</td>\n      <td>-0.071106</td>\n      <td>-0.101933</td>\n      <td>1</td>\n    </tr>\n    <tr>\n      <th>1</th>\n      <td>0.711495</td>\n      <td>-0.137242</td>\n      <td>0.031882</td>\n      <td>-0.465346</td>\n      <td>0</td>\n    </tr>\n    <tr>\n      <th>2</th>\n      <td>0.089455</td>\n      <td>0.761423</td>\n      <td>0.356936</td>\n      <td>0.354945</td>\n      <td>1</td>\n    </tr>\n    <tr>\n      <th>3</th>\n      <td>0.804412</td>\n      <td>-0.341123</td>\n      <td>0.220552</td>\n      <td>-0.266251</td>\n      <td>0</td>\n    </tr>\n    <tr>\n      <th>4</th>\n      <td>-0.194893</td>\n      <td>-0.597016</td>\n      <td>0.237802</td>\n      <td>0.230301</td>\n      <td>1</td>\n    </tr>\n  </tbody>\n</table>\n</div>"
     },
     "execution_count": 75,
     "metadata": {},
     "output_type": "execute_result"
    }
   ],
   "source": [
    "principal_components = pca.transform(values_no_decision)\n",
    "cols = []\n",
    "for idx in range(principal_components.shape[1]):\n",
    "    cols.append(f'F{idx}')\n",
    "pca_pd_ds = pd.DataFrame(principal_components, columns=cols)\n",
    "pca_pd_ds['Decision'] = ds['Decision']\n",
    "pca_pd_ds.head()"
   ],
   "metadata": {
    "collapsed": false,
    "pycharm": {
     "name": "#%%\n"
    }
   }
  },
  {
   "cell_type": "code",
   "execution_count": 76,
   "outputs": [],
   "source": [
    "pca_pd_ds.to_csv(\"../data/\" + dataset_name + \" KernelPCA.csv\", sep=\";\")\n"
   ],
   "metadata": {
    "collapsed": false,
    "pycharm": {
     "name": "#%%\n"
    }
   }
  }
 ],
 "metadata": {
  "kernelspec": {
   "display_name": "Python 3",
   "language": "python",
   "name": "python3"
  },
  "language_info": {
   "codemirror_mode": {
    "name": "ipython",
    "version": 3
   },
   "file_extension": ".py",
   "mimetype": "text/x-python",
   "name": "python",
   "nbconvert_exporter": "python",
   "pygments_lexer": "ipython3",
   "version": "3.9.6"
  }
 },
 "nbformat": 4,
 "nbformat_minor": 5
}