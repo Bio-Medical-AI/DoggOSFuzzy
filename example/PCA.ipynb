{
 "cells": [
  {
   "cell_type": "code",
   "execution_count": 9,
   "id": "ee51ee20-a569-4937-b600-af332c783fee",
   "metadata": {},
   "outputs": [],
   "source": [
    "import os\n",
    "os.path.join('../')\n",
    "from collections import defaultdict, OrderedDict\n",
    "from typing import Dict, List, Any, Callable\n",
    "\n",
    "from pprint import pprint\n",
    "import pandas as pd\n",
    "import numpy as np\n",
    "import matplotlib.pyplot as plt\n",
    "\n",
    "from sklearn.decomposition import PCA\n",
    "from sklearn.preprocessing import MinMaxScaler\n",
    "\n",
    "from doggos.fuzzy_sets import Type1FuzzySet\n",
    "from doggos.fuzzy_sets.fuzzy_set import FuzzySet\n",
    "from doggos.induction.information_system import InformationSystem\n",
    "from doggos.inference import MamdaniInferenceSystem\n",
    "from doggos.inference.defuzzification_algorithms import center_of_gravity, karnik_mendel\n",
    "from doggos.inference.inference_system import InferenceSystem\n",
    "from doggos.knowledge import Rule, Clause, fuzzify, LinguisticVariable, Domain\n",
    "from doggos.knowledge.consequents import MamdaniConsequent\n",
    "from doggos.knowledge.consequents.consequent import Consequent\n",
    "from doggos.utils.grouping_functions import create_set_of_variables\n",
    "from doggos.utils.membership_functions.membership_functions import generate_equal_gausses, sigmoid, gaussian"
   ]
  },
  {
   "cell_type": "code",
   "execution_count": 67,
   "id": "0919a514-a3e7-42d3-9c2c-6bbc03e643db",
   "metadata": {},
   "outputs": [
    {
     "data": {
      "text/plain": "   F0   F1  F2  F3   F4       F5     F6  F7  Decision\n0   6  148  72  35    0     33.6  0.627  50         1\n1   1   85  66  29    0  43642.0  0.351  31         0\n2   8  183  64   0    0  43547.0  0.672  32         1\n3   1   89  66  23   94  43493.0  0.167  21         0\n4   0  137  40  35  168     43.1  2.288  33         1",
      "text/html": "<div>\n<style scoped>\n    .dataframe tbody tr th:only-of-type {\n        vertical-align: middle;\n    }\n\n    .dataframe tbody tr th {\n        vertical-align: top;\n    }\n\n    .dataframe thead th {\n        text-align: right;\n    }\n</style>\n<table border=\"1\" class=\"dataframe\">\n  <thead>\n    <tr style=\"text-align: right;\">\n      <th></th>\n      <th>F0</th>\n      <th>F1</th>\n      <th>F2</th>\n      <th>F3</th>\n      <th>F4</th>\n      <th>F5</th>\n      <th>F6</th>\n      <th>F7</th>\n      <th>Decision</th>\n    </tr>\n  </thead>\n  <tbody>\n    <tr>\n      <th>0</th>\n      <td>6</td>\n      <td>148</td>\n      <td>72</td>\n      <td>35</td>\n      <td>0</td>\n      <td>33.6</td>\n      <td>0.627</td>\n      <td>50</td>\n      <td>1</td>\n    </tr>\n    <tr>\n      <th>1</th>\n      <td>1</td>\n      <td>85</td>\n      <td>66</td>\n      <td>29</td>\n      <td>0</td>\n      <td>43642.0</td>\n      <td>0.351</td>\n      <td>31</td>\n      <td>0</td>\n    </tr>\n    <tr>\n      <th>2</th>\n      <td>8</td>\n      <td>183</td>\n      <td>64</td>\n      <td>0</td>\n      <td>0</td>\n      <td>43547.0</td>\n      <td>0.672</td>\n      <td>32</td>\n      <td>1</td>\n    </tr>\n    <tr>\n      <th>3</th>\n      <td>1</td>\n      <td>89</td>\n      <td>66</td>\n      <td>23</td>\n      <td>94</td>\n      <td>43493.0</td>\n      <td>0.167</td>\n      <td>21</td>\n      <td>0</td>\n    </tr>\n    <tr>\n      <th>4</th>\n      <td>0</td>\n      <td>137</td>\n      <td>40</td>\n      <td>35</td>\n      <td>168</td>\n      <td>43.1</td>\n      <td>2.288</td>\n      <td>33</td>\n      <td>1</td>\n    </tr>\n  </tbody>\n</table>\n</div>"
     },
     "execution_count": 67,
     "metadata": {},
     "output_type": "execute_result"
    }
   ],
   "source": [
    "dataset_name = \"Pima Indians Diabetes\"\n",
    "ds = pd.read_csv(\"../data/\" + dataset_name + \".csv\", sep=\";\")\n",
    "\n",
    "ds.head()"
   ]
  },
  {
   "cell_type": "code",
   "execution_count": 69,
   "outputs": [
    {
     "name": "stdout",
     "output_type": "stream",
     "text": [
      "[0.58037873 0.156019   0.08730092 0.0579577 ]\n"
     ]
    }
   ],
   "source": [
    "pca = PCA(n_components=4)\n",
    "values_no_decision = ds.drop(labels=[\"Decision\"], axis=1)\n",
    "min_max_scaler = MinMaxScaler()\n",
    "values_no_decision = min_max_scaler.fit_transform(values_no_decision.values)\n",
    "pca.fit(values_no_decision)\n",
    "print(pca.explained_variance_ratio_)"
   ],
   "metadata": {
    "collapsed": false,
    "pycharm": {
     "name": "#%%\n"
    }
   }
  },
  {
   "cell_type": "code",
   "execution_count": 70,
   "outputs": [
    {
     "data": {
      "text/plain": "         F0        F1        F2        F3  Decision\n0 -0.407224  0.280587  0.041664  0.017709         1\n1  0.619142 -0.161374  0.005978 -0.148457         0\n2  0.614697  0.256225 -0.016473  0.233501         1\n3  0.620975 -0.267658  0.037189 -0.108237         0\n4 -0.384516 -0.216077  0.076533  0.192233         1",
      "text/html": "<div>\n<style scoped>\n    .dataframe tbody tr th:only-of-type {\n        vertical-align: middle;\n    }\n\n    .dataframe tbody tr th {\n        vertical-align: top;\n    }\n\n    .dataframe thead th {\n        text-align: right;\n    }\n</style>\n<table border=\"1\" class=\"dataframe\">\n  <thead>\n    <tr style=\"text-align: right;\">\n      <th></th>\n      <th>F0</th>\n      <th>F1</th>\n      <th>F2</th>\n      <th>F3</th>\n      <th>Decision</th>\n    </tr>\n  </thead>\n  <tbody>\n    <tr>\n      <th>0</th>\n      <td>-0.407224</td>\n      <td>0.280587</td>\n      <td>0.041664</td>\n      <td>0.017709</td>\n      <td>1</td>\n    </tr>\n    <tr>\n      <th>1</th>\n      <td>0.619142</td>\n      <td>-0.161374</td>\n      <td>0.005978</td>\n      <td>-0.148457</td>\n      <td>0</td>\n    </tr>\n    <tr>\n      <th>2</th>\n      <td>0.614697</td>\n      <td>0.256225</td>\n      <td>-0.016473</td>\n      <td>0.233501</td>\n      <td>1</td>\n    </tr>\n    <tr>\n      <th>3</th>\n      <td>0.620975</td>\n      <td>-0.267658</td>\n      <td>0.037189</td>\n      <td>-0.108237</td>\n      <td>0</td>\n    </tr>\n    <tr>\n      <th>4</th>\n      <td>-0.384516</td>\n      <td>-0.216077</td>\n      <td>0.076533</td>\n      <td>0.192233</td>\n      <td>1</td>\n    </tr>\n  </tbody>\n</table>\n</div>"
     },
     "execution_count": 70,
     "metadata": {},
     "output_type": "execute_result"
    }
   ],
   "source": [
    "principal_components = pca.transform(values_no_decision)\n",
    "cols = []\n",
    "for idx in range(principal_components.shape[1]):\n",
    "    cols.append(f'F{idx}')\n",
    "pca_pd_ds = pd.DataFrame(principal_components, columns=cols)\n",
    "pca_pd_ds['Decision'] = ds['Decision']\n",
    "pca_pd_ds.head()"
   ],
   "metadata": {
    "collapsed": false,
    "pycharm": {
     "name": "#%%\n"
    }
   }
  },
  {
   "cell_type": "code",
   "execution_count": 71,
   "outputs": [],
   "source": [
    "pca_pd_ds.to_csv(\"../data/\" + dataset_name + \" PCA.csv\", sep=\";\")\n"
   ],
   "metadata": {
    "collapsed": false,
    "pycharm": {
     "name": "#%%\n"
    }
   }
  }
 ],
 "metadata": {
  "kernelspec": {
   "display_name": "Python 3",
   "language": "python",
   "name": "python3"
  },
  "language_info": {
   "codemirror_mode": {
    "name": "ipython",
    "version": 3
   },
   "file_extension": ".py",
   "mimetype": "text/x-python",
   "name": "python",
   "nbconvert_exporter": "python",
   "pygments_lexer": "ipython3",
   "version": "3.9.6"
  }
 },
 "nbformat": 4,
 "nbformat_minor": 5
}