{
 "cells": [
  {
   "cell_type": "code",
   "execution_count": 1,
   "id": "ee51ee20-a569-4937-b600-af332c783fee",
   "metadata": {},
   "outputs": [],
   "source": [
    "import os\n",
    "os.path.join('../')\n",
    "from collections import defaultdict, OrderedDict\n",
    "from typing import Dict, List, Any, Callable\n",
    "\n",
    "from pprint import pprint\n",
    "import pandas as pd\n",
    "import numpy as np\n",
    "import matplotlib.pyplot as plt\n",
    "\n",
    "from sklearn.decomposition import PCA, KernelPCA\n",
    "from sklearn.preprocessing import MinMaxScaler, StandardScaler\n",
    "\n",
    "from doggos.fuzzy_sets import Type1FuzzySet\n",
    "from doggos.fuzzy_sets.fuzzy_set import FuzzySet\n",
    "from doggos.induction.information_system import InformationSystem\n",
    "from doggos.inference import MamdaniInferenceSystem\n",
    "from doggos.inference.defuzzification_algorithms import center_of_gravity, karnik_mendel\n",
    "from doggos.inference.inference_system import InferenceSystem\n",
    "from doggos.knowledge import Rule, Clause, fuzzify, LinguisticVariable, Domain\n",
    "from doggos.knowledge.consequents import MamdaniConsequent\n",
    "from doggos.knowledge.consequents.consequent import Consequent\n",
    "from doggos.utils.grouping_functions import create_set_of_variables\n",
    "from doggos.utils.membership_functions.membership_functions import generate_equal_gausses, sigmoid, gaussian"
   ]
  },
  {
   "cell_type": "code",
   "execution_count": 8,
   "id": "0919a514-a3e7-42d3-9c2c-6bbc03e643db",
   "metadata": {},
   "outputs": [
    {
     "name": "stdout",
     "output_type": "stream",
     "text": [
      "   Unnamed: 0       F0       F1       F2       F3       F4       F5       F6  \\\n",
      "0           0  119.992  157.302   74.997  0.00784  0.00007  0.00370  0.00554   \n",
      "1           1  122.400  148.650  113.819  0.00968  0.00008  0.00465  0.00696   \n",
      "2           2  116.682  131.111  111.555  0.01050  0.00009  0.00544  0.00781   \n",
      "3           3  116.676  137.871  111.366  0.00997  0.00009  0.00502  0.00698   \n",
      "4           4  116.014  141.781  110.655  0.01284  0.00011  0.00655  0.00908   \n",
      "\n",
      "        F7       F8  ...      F13      F14     F15       F16       F17  \\\n",
      "0  0.01109  0.04374  ...  0.06545  0.02211  21.033  0.414783  0.815285   \n",
      "1  0.01394  0.06134  ...  0.09403  0.01929  19.085  0.458359  0.819521   \n",
      "2  0.01633  0.05233  ...  0.08270  0.01309  20.651  0.429895  0.825288   \n",
      "3  0.01505  0.05492  ...  0.08771  0.01353  20.644  0.434969  0.819235   \n",
      "4  0.01966  0.06425  ...  0.10470  0.01767  19.649  0.417356  0.823484   \n",
      "\n",
      "        F18       F19       F20       F21  Decision  \n",
      "0 -4.813031  0.266482  2.301442  0.284654         0  \n",
      "1 -4.075192  0.335590  2.486855  0.368674         0  \n",
      "2 -4.443179  0.311173  2.342259  0.332634         0  \n",
      "3 -4.117501  0.334147  2.405554  0.368975         0  \n",
      "4 -3.747787  0.234513  2.332180  0.410335         0  \n",
      "\n",
      "[5 rows x 24 columns]\n"
     ]
    }
   ],
   "source": [
    "dataset_name = \"Parkinson\"\n",
    "ds = pd.read_csv(\"../data/\" + dataset_name + \".csv\", sep=\";\")\n",
    "print(ds.head())\n",
    "ds = ds.drop(columns=[ds.columns[0]])\n",
    "ds.to_csv(\"../data/\" + dataset_name + \".csv\", sep=\";\", index=False)"
   ]
  },
  {
   "cell_type": "code",
   "execution_count": 40,
   "outputs": [
    {
     "name": "stdout",
     "output_type": "stream",
     "text": [
      "[0.23327578 0.21109452 0.13147107 0.12027503]\n"
     ]
    }
   ],
   "source": [
    "pca = PCA(n_components=4)\n",
    "values_no_decision = ds.drop(labels=[\"Decision\"], axis=1)\n",
    "min_max_scaler = StandardScaler()\n",
    "values_no_decision = min_max_scaler.fit_transform(values_no_decision.values)\n",
    "pca.fit(values_no_decision)\n",
    "print(pca.explained_variance_ratio_)"
   ],
   "metadata": {
    "collapsed": false,
    "pycharm": {
     "name": "#%%\n"
    }
   }
  },
  {
   "cell_type": "code",
   "execution_count": 74,
   "outputs": [
    {
     "name": "stdout",
     "output_type": "stream",
     "text": [
      "[0.33121241 0.32015514 0.19676206 0.15187038]\n"
     ]
    }
   ],
   "source": [
    "pca = KernelPCA(n_components=4, kernel='cosine')\n",
    "values_no_decision = ds.drop(labels=[\"Decision\"], axis=1)\n",
    "min_max_scaler = StandardScaler()\n",
    "values_no_decision = min_max_scaler.fit_transform(values_no_decision.values)\n",
    "pca.fit(values_no_decision)\n",
    "print(pca.eigenvalues_ / np.sum(pca.eigenvalues_))"
   ],
   "metadata": {
    "collapsed": false,
    "pycharm": {
     "name": "#%%\n"
    }
   }
  },
  {
   "cell_type": "code",
   "execution_count": 41,
   "outputs": [
    {
     "data": {
      "text/plain": "         F0        F1        F2        F3  Decision\n0 -1.563533 -0.675045 -0.446649  0.330954         1\n1  1.418342  0.170636  0.040022  0.429542         0\n2 -0.152949 -1.766084  1.227255 -1.360971         1\n3  1.555166  0.763236  0.288356 -0.016735         0\n4  0.017222  1.580277  0.070721 -0.750512         1",
      "text/html": "<div>\n<style scoped>\n    .dataframe tbody tr th:only-of-type {\n        vertical-align: middle;\n    }\n\n    .dataframe tbody tr th {\n        vertical-align: top;\n    }\n\n    .dataframe thead th {\n        text-align: right;\n    }\n</style>\n<table border=\"1\" class=\"dataframe\">\n  <thead>\n    <tr style=\"text-align: right;\">\n      <th></th>\n      <th>F0</th>\n      <th>F1</th>\n      <th>F2</th>\n      <th>F3</th>\n      <th>Decision</th>\n    </tr>\n  </thead>\n  <tbody>\n    <tr>\n      <th>0</th>\n      <td>-1.563533</td>\n      <td>-0.675045</td>\n      <td>-0.446649</td>\n      <td>0.330954</td>\n      <td>1</td>\n    </tr>\n    <tr>\n      <th>1</th>\n      <td>1.418342</td>\n      <td>0.170636</td>\n      <td>0.040022</td>\n      <td>0.429542</td>\n      <td>0</td>\n    </tr>\n    <tr>\n      <th>2</th>\n      <td>-0.152949</td>\n      <td>-1.766084</td>\n      <td>1.227255</td>\n      <td>-1.360971</td>\n      <td>1</td>\n    </tr>\n    <tr>\n      <th>3</th>\n      <td>1.555166</td>\n      <td>0.763236</td>\n      <td>0.288356</td>\n      <td>-0.016735</td>\n      <td>0</td>\n    </tr>\n    <tr>\n      <th>4</th>\n      <td>0.017222</td>\n      <td>1.580277</td>\n      <td>0.070721</td>\n      <td>-0.750512</td>\n      <td>1</td>\n    </tr>\n  </tbody>\n</table>\n</div>"
     },
     "execution_count": 41,
     "metadata": {},
     "output_type": "execute_result"
    }
   ],
   "source": [
    "principal_components = pca.transform(values_no_decision)\n",
    "cols = []\n",
    "for idx in range(principal_components.shape[1]):\n",
    "    cols.append(f'F{idx}')\n",
    "pca_pd_ds = pd.DataFrame(principal_components, columns=cols)\n",
    "pca_pd_ds['Decision'] = ds['Decision']\n",
    "pca_pd_ds.head()"
   ],
   "metadata": {
    "collapsed": false,
    "pycharm": {
     "name": "#%%\n"
    }
   }
  },
  {
   "cell_type": "code",
   "execution_count": 42,
   "outputs": [],
   "source": [
    "pca_pd_ds.to_csv(\"../data/\" + dataset_name + \" StdPCA.csv\", sep=\";\", index=False)\n"
   ],
   "metadata": {
    "collapsed": false,
    "pycharm": {
     "name": "#%%\n"
    }
   }
  }
 ],
 "metadata": {
  "kernelspec": {
   "display_name": "Python 3",
   "language": "python",
   "name": "python3"
  },
  "language_info": {
   "codemirror_mode": {
    "name": "ipython",
    "version": 3
   },
   "file_extension": ".py",
   "mimetype": "text/x-python",
   "name": "python",
   "nbconvert_exporter": "python",
   "pygments_lexer": "ipython3",
   "version": "3.9.6"
  }
 },
 "nbformat": 4,
 "nbformat_minor": 5
}