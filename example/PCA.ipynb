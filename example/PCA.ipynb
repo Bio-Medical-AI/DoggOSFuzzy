{
 "cells": [
  {
   "cell_type": "code",
   "execution_count": 2,
   "id": "ee51ee20-a569-4937-b600-af332c783fee",
   "metadata": {},
   "outputs": [],
   "source": [
    "import os\n",
    "os.path.join('../')\n",
    "from collections import defaultdict, OrderedDict\n",
    "from typing import Dict, List, Any, Callable\n",
    "\n",
    "from pprint import pprint\n",
    "import pandas as pd\n",
    "import numpy as np\n",
    "import matplotlib.pyplot as plt\n",
    "\n",
    "from sklearn.decomposition import PCA, KernelPCA\n",
    "from sklearn.preprocessing import MinMaxScaler, StandardScaler\n",
    "\n",
    "from doggos.fuzzy_sets import Type1FuzzySet\n",
    "from doggos.fuzzy_sets.fuzzy_set import FuzzySet\n",
    "from doggos.induction.information_system import InformationSystem\n",
    "from doggos.inference import MamdaniInferenceSystem\n",
    "from doggos.inference.defuzzification_algorithms import center_of_gravity, karnik_mendel\n",
    "from doggos.inference.inference_system import InferenceSystem\n",
    "from doggos.knowledge import Rule, Clause, fuzzify, LinguisticVariable, Domain\n",
    "from doggos.knowledge.consequents import MamdaniConsequent\n",
    "from doggos.knowledge.consequents.consequent import Consequent\n",
    "from doggos.utils.grouping_functions import create_set_of_variables\n",
    "from doggos.utils.membership_functions.membership_functions import generate_equal_gausses, sigmoid, gaussian"
   ]
  },
  {
   "cell_type": "code",
   "execution_count": 7,
   "id": "0919a514-a3e7-42d3-9c2c-6bbc03e643db",
   "metadata": {},
   "outputs": [
    {
     "data": {
      "text/plain": "      F0     F1      F2      F3       F4       F5      F6       F7      F8  \\\n0  17.99  10.38  122.80  1001.0  0.11840  0.27760  0.3001  0.14710  0.2419   \n1  20.57  17.77  132.90  1326.0  0.08474  0.07864  0.0869  0.07017  0.1812   \n2  19.69  21.25  130.00  1203.0  0.10960  0.15990  0.1974  0.12790  0.2069   \n3  11.42  20.38   77.58   386.1  0.14250  0.28390  0.2414  0.10520  0.2597   \n4  20.29  14.34  135.10  1297.0  0.10030  0.13280  0.1980  0.10430  0.1809   \n\n        F9  ...    F21     F22     F23     F24     F25     F26     F27  \\\n0  0.07871  ...  17.33  184.60  2019.0  0.1622  0.6656  0.7119  0.2654   \n1  0.05667  ...  23.41  158.80  1956.0  0.1238  0.1866  0.2416  0.1860   \n2  0.05999  ...  25.53  152.50  1709.0  0.1444  0.4245  0.4504  0.2430   \n3  0.09744  ...  26.50   98.87   567.7  0.2098  0.8663  0.6869  0.2575   \n4  0.05883  ...  16.67  152.20  1575.0  0.1374  0.2050  0.4000  0.1625   \n\n      F28      F29  Decision  \n0  0.4601  0.11890         1  \n1  0.2750  0.08902         1  \n2  0.3613  0.08758         1  \n3  0.6638  0.17300         1  \n4  0.2364  0.07678         1  \n\n[5 rows x 31 columns]",
      "text/html": "<div>\n<style scoped>\n    .dataframe tbody tr th:only-of-type {\n        vertical-align: middle;\n    }\n\n    .dataframe tbody tr th {\n        vertical-align: top;\n    }\n\n    .dataframe thead th {\n        text-align: right;\n    }\n</style>\n<table border=\"1\" class=\"dataframe\">\n  <thead>\n    <tr style=\"text-align: right;\">\n      <th></th>\n      <th>F0</th>\n      <th>F1</th>\n      <th>F2</th>\n      <th>F3</th>\n      <th>F4</th>\n      <th>F5</th>\n      <th>F6</th>\n      <th>F7</th>\n      <th>F8</th>\n      <th>F9</th>\n      <th>...</th>\n      <th>F21</th>\n      <th>F22</th>\n      <th>F23</th>\n      <th>F24</th>\n      <th>F25</th>\n      <th>F26</th>\n      <th>F27</th>\n      <th>F28</th>\n      <th>F29</th>\n      <th>Decision</th>\n    </tr>\n  </thead>\n  <tbody>\n    <tr>\n      <th>0</th>\n      <td>17.99</td>\n      <td>10.38</td>\n      <td>122.80</td>\n      <td>1001.0</td>\n      <td>0.11840</td>\n      <td>0.27760</td>\n      <td>0.3001</td>\n      <td>0.14710</td>\n      <td>0.2419</td>\n      <td>0.07871</td>\n      <td>...</td>\n      <td>17.33</td>\n      <td>184.60</td>\n      <td>2019.0</td>\n      <td>0.1622</td>\n      <td>0.6656</td>\n      <td>0.7119</td>\n      <td>0.2654</td>\n      <td>0.4601</td>\n      <td>0.11890</td>\n      <td>1</td>\n    </tr>\n    <tr>\n      <th>1</th>\n      <td>20.57</td>\n      <td>17.77</td>\n      <td>132.90</td>\n      <td>1326.0</td>\n      <td>0.08474</td>\n      <td>0.07864</td>\n      <td>0.0869</td>\n      <td>0.07017</td>\n      <td>0.1812</td>\n      <td>0.05667</td>\n      <td>...</td>\n      <td>23.41</td>\n      <td>158.80</td>\n      <td>1956.0</td>\n      <td>0.1238</td>\n      <td>0.1866</td>\n      <td>0.2416</td>\n      <td>0.1860</td>\n      <td>0.2750</td>\n      <td>0.08902</td>\n      <td>1</td>\n    </tr>\n    <tr>\n      <th>2</th>\n      <td>19.69</td>\n      <td>21.25</td>\n      <td>130.00</td>\n      <td>1203.0</td>\n      <td>0.10960</td>\n      <td>0.15990</td>\n      <td>0.1974</td>\n      <td>0.12790</td>\n      <td>0.2069</td>\n      <td>0.05999</td>\n      <td>...</td>\n      <td>25.53</td>\n      <td>152.50</td>\n      <td>1709.0</td>\n      <td>0.1444</td>\n      <td>0.4245</td>\n      <td>0.4504</td>\n      <td>0.2430</td>\n      <td>0.3613</td>\n      <td>0.08758</td>\n      <td>1</td>\n    </tr>\n    <tr>\n      <th>3</th>\n      <td>11.42</td>\n      <td>20.38</td>\n      <td>77.58</td>\n      <td>386.1</td>\n      <td>0.14250</td>\n      <td>0.28390</td>\n      <td>0.2414</td>\n      <td>0.10520</td>\n      <td>0.2597</td>\n      <td>0.09744</td>\n      <td>...</td>\n      <td>26.50</td>\n      <td>98.87</td>\n      <td>567.7</td>\n      <td>0.2098</td>\n      <td>0.8663</td>\n      <td>0.6869</td>\n      <td>0.2575</td>\n      <td>0.6638</td>\n      <td>0.17300</td>\n      <td>1</td>\n    </tr>\n    <tr>\n      <th>4</th>\n      <td>20.29</td>\n      <td>14.34</td>\n      <td>135.10</td>\n      <td>1297.0</td>\n      <td>0.10030</td>\n      <td>0.13280</td>\n      <td>0.1980</td>\n      <td>0.10430</td>\n      <td>0.1809</td>\n      <td>0.05883</td>\n      <td>...</td>\n      <td>16.67</td>\n      <td>152.20</td>\n      <td>1575.0</td>\n      <td>0.1374</td>\n      <td>0.2050</td>\n      <td>0.4000</td>\n      <td>0.1625</td>\n      <td>0.2364</td>\n      <td>0.07678</td>\n      <td>1</td>\n    </tr>\n  </tbody>\n</table>\n<p>5 rows × 31 columns</p>\n</div>"
     },
     "execution_count": 7,
     "metadata": {},
     "output_type": "execute_result"
    }
   ],
   "source": [
    "dataset_name = \"wdbc\"\n",
    "ds = pd.read_csv(\"../data/\" + dataset_name + \".csv\", sep=\";\")\n",
    "ds.head()"
   ]
  },
  {
   "cell_type": "code",
   "execution_count": 8,
   "outputs": [
    {
     "name": "stdout",
     "output_type": "stream",
     "text": [
      "[0.44272026 0.18971182 0.09393163 0.06602135]\n"
     ]
    }
   ],
   "source": [
    "pca = PCA(n_components=4)\n",
    "values_no_decision = ds.drop(labels=[\"Decision\"], axis=1)\n",
    "min_max_scaler = StandardScaler()\n",
    "values_no_decision = min_max_scaler.fit_transform(values_no_decision.values)\n",
    "pca.fit(values_no_decision)\n",
    "print(pca.explained_variance_ratio_)"
   ],
   "metadata": {
    "collapsed": false,
    "pycharm": {
     "name": "#%%\n"
    }
   }
  },
  {
   "cell_type": "code",
   "execution_count": 74,
   "outputs": [
    {
     "name": "stdout",
     "output_type": "stream",
     "text": [
      "[0.33121241 0.32015514 0.19676206 0.15187038]\n"
     ]
    }
   ],
   "source": [
    "pca = KernelPCA(n_components=4, kernel='cosine')\n",
    "values_no_decision = ds.drop(labels=[\"Decision\"], axis=1)\n",
    "min_max_scaler = StandardScaler()\n",
    "values_no_decision = min_max_scaler.fit_transform(values_no_decision.values)\n",
    "pca.fit(values_no_decision)\n",
    "print(pca.eigenvalues_ / np.sum(pca.eigenvalues_))"
   ],
   "metadata": {
    "collapsed": false,
    "pycharm": {
     "name": "#%%\n"
    }
   }
  },
  {
   "cell_type": "code",
   "execution_count": 9,
   "outputs": [
    {
     "data": {
      "text/plain": "         F0         F1        F2        F3  Decision\n0  9.192837   1.948583 -1.123166  3.633731         1\n1  2.387802  -3.768172 -0.529293  1.118264         1\n2  5.733896  -1.075174 -0.551748  0.912083         1\n3  7.122953  10.275589 -3.232790  0.152547         1\n4  3.935302  -1.948072  1.389768  2.940639         1",
      "text/html": "<div>\n<style scoped>\n    .dataframe tbody tr th:only-of-type {\n        vertical-align: middle;\n    }\n\n    .dataframe tbody tr th {\n        vertical-align: top;\n    }\n\n    .dataframe thead th {\n        text-align: right;\n    }\n</style>\n<table border=\"1\" class=\"dataframe\">\n  <thead>\n    <tr style=\"text-align: right;\">\n      <th></th>\n      <th>F0</th>\n      <th>F1</th>\n      <th>F2</th>\n      <th>F3</th>\n      <th>Decision</th>\n    </tr>\n  </thead>\n  <tbody>\n    <tr>\n      <th>0</th>\n      <td>9.192837</td>\n      <td>1.948583</td>\n      <td>-1.123166</td>\n      <td>3.633731</td>\n      <td>1</td>\n    </tr>\n    <tr>\n      <th>1</th>\n      <td>2.387802</td>\n      <td>-3.768172</td>\n      <td>-0.529293</td>\n      <td>1.118264</td>\n      <td>1</td>\n    </tr>\n    <tr>\n      <th>2</th>\n      <td>5.733896</td>\n      <td>-1.075174</td>\n      <td>-0.551748</td>\n      <td>0.912083</td>\n      <td>1</td>\n    </tr>\n    <tr>\n      <th>3</th>\n      <td>7.122953</td>\n      <td>10.275589</td>\n      <td>-3.232790</td>\n      <td>0.152547</td>\n      <td>1</td>\n    </tr>\n    <tr>\n      <th>4</th>\n      <td>3.935302</td>\n      <td>-1.948072</td>\n      <td>1.389768</td>\n      <td>2.940639</td>\n      <td>1</td>\n    </tr>\n  </tbody>\n</table>\n</div>"
     },
     "execution_count": 9,
     "metadata": {},
     "output_type": "execute_result"
    }
   ],
   "source": [
    "principal_components = pca.transform(values_no_decision)\n",
    "cols = []\n",
    "for idx in range(principal_components.shape[1]):\n",
    "    cols.append(f'F{idx}')\n",
    "pca_pd_ds = pd.DataFrame(principal_components, columns=cols)\n",
    "pca_pd_ds['Decision'] = ds['Decision']\n",
    "pca_pd_ds.head()"
   ],
   "metadata": {
    "collapsed": false,
    "pycharm": {
     "name": "#%%\n"
    }
   }
  },
  {
   "cell_type": "code",
   "execution_count": 10,
   "outputs": [],
   "source": [
    "pca_pd_ds.to_csv(\"../data/\" + dataset_name + \" StdPCA.csv\", sep=\";\", index=False)\n"
   ],
   "metadata": {
    "collapsed": false,
    "pycharm": {
     "name": "#%%\n"
    }
   }
  }
 ],
 "metadata": {
  "kernelspec": {
   "display_name": "Python 3",
   "language": "python",
   "name": "python3"
  },
  "language_info": {
   "codemirror_mode": {
    "name": "ipython",
    "version": 3
   },
   "file_extension": ".py",
   "mimetype": "text/x-python",
   "name": "python",
   "nbconvert_exporter": "python",
   "pygments_lexer": "ipython3",
   "version": "3.9.6"
  }
 },
 "nbformat": 4,
 "nbformat_minor": 5
}