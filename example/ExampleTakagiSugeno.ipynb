{
 "cells": [
  {
   "cell_type": "markdown",
   "id": "d3662263-cd38-46f9-9f5f-5c3a52093feb",
   "metadata": {},
   "source": []
  },
  {
   "cell_type": "code",
   "execution_count": 5,
   "id": "aba839e3-946c-4c51-9f78-04e63dac1730",
   "metadata": {},
   "outputs": [],
   "source": [
    "import os\n",
    "os.chdir('..')"
   ]
  },
  {
   "cell_type": "code",
   "execution_count": 22,
   "id": "e30cb10a-3b94-418f-a3b5-644f720a0ea5",
   "metadata": {},
   "outputs": [],
   "source": [
    "import doggos.algebras as a"
   ]
  },
  {
   "cell_type": "code",
   "execution_count": 23,
   "id": "f5b15cd1-e75c-4ca0-a639-b5565349d790",
   "metadata": {},
   "outputs": [
    {
     "data": {
      "text/plain": [
       "0"
      ]
     },
     "execution_count": 23,
     "metadata": {},
     "output_type": "execute_result"
    }
   ],
   "source": [
    "a.GodelAlgebra.t_norm(0, 2)"
   ]
  },
  {
   "cell_type": "code",
   "execution_count": null,
   "id": "7a88d1bf-f77e-488c-9a41-1bef06696834",
   "metadata": {},
   "outputs": [],
   "source": []
  }
 ],
 "metadata": {
  "kernelspec": {
   "display_name": "Python 3",
   "language": "python",
   "name": "python3"
  },
  "language_info": {
   "codemirror_mode": {
    "name": "ipython",
    "version": 3
   },
   "file_extension": ".py",
   "mimetype": "text/x-python",
   "name": "python",
   "nbconvert_exporter": "python",
   "pygments_lexer": "ipython3",
   "version": "3.9.4"
  }
 },
 "nbformat": 4,
 "nbformat_minor": 5
}
