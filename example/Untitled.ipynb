{
 "cells": [
  {
   "cell_type": "code",
   "execution_count": null,
   "id": "ee51ee20-a569-4937-b600-af332c783fee",
   "metadata": {},
   "outputs": [],
   "source": [
    "import os\n",
    "os.path.join('../')\n",
    "from collections import defaultdict, OrderedDict\n",
    "from typing import Dict, List, Any, Callable\n",
    "\n",
    "from pprint import pprint\n",
    "import pandas as pd\n",
    "import numpy as np\n",
    "import matplotlib.pyplot as plt\n",
    "\n",
    "from sklearn.decomposition import PCA\n",
    "\n",
    "from doggos.fuzzy_sets import Type1FuzzySet\n",
    "from doggos.fuzzy_sets.fuzzy_set import FuzzySet\n",
    "from doggos.induction.information_system import InformationSystem\n",
    "from doggos.inference import MamdaniInferenceSystem\n",
    "from doggos.inference.defuzzification_algorithms import center_of_gravity, karnik_mendel\n",
    "from doggos.inference.inference_system import InferenceSystem\n",
    "from doggos.knowledge import Rule, Clause, fuzzify, LinguisticVariable, Domain\n",
    "from doggos.knowledge.consequents import MamdaniConsequent\n",
    "from doggos.knowledge.consequents.consequent import Consequent\n",
    "from doggos.utils.grouping_functions import create_set_of_variables\n",
    "from doggos.utils.membership_functions.membership_functions import generate_equal_gausses, sigmoid, gaussian"
   ]
  },
  {
   "cell_type": "code",
   "execution_count": null,
   "id": "0919a514-a3e7-42d3-9c2c-6bbc03e643db",
   "metadata": {},
   "outputs": [],
   "source": []
  }
 ],
 "metadata": {
  "kernelspec": {
   "display_name": "Python 3",
   "language": "python",
   "name": "python3"
  },
  "language_info": {
   "codemirror_mode": {
    "name": "ipython",
    "version": 3
   },
   "file_extension": ".py",
   "mimetype": "text/x-python",
   "name": "python",
   "nbconvert_exporter": "python",
   "pygments_lexer": "ipython3",
   "version": "3.9.6"
  }
 },
 "nbformat": 4,
 "nbformat_minor": 5
}